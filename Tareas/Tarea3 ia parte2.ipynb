{
 "cells": [
  {
   "cell_type": "markdown",
   "id": "1acb581f",
   "metadata": {},
   "source": [
    "# Tarea #3 "
   ]
  },
  {
   "cell_type": "markdown",
   "id": "08c69a9a",
   "metadata": {},
   "source": [
    "Santiago Flórez"
   ]
  },
  {
   "cell_type": "code",
   "execution_count": 1,
   "id": "15db11ad",
   "metadata": {},
   "outputs": [
    {
     "name": "stdout",
     "output_type": "stream",
     "text": [
      "<class 'pandas.core.frame.DataFrame'>\n",
      "RangeIndex: 150 entries, 0 to 149\n",
      "Data columns (total 6 columns):\n",
      " #   Column         Non-Null Count  Dtype  \n",
      "---  ------         --------------  -----  \n",
      " 0   Id             150 non-null    int64  \n",
      " 1   SepalLengthCm  150 non-null    float64\n",
      " 2   SepalWidthCm   150 non-null    float64\n",
      " 3   PetalLengthCm  150 non-null    float64\n",
      " 4   PetalWidthCm   150 non-null    float64\n",
      " 5   Species        150 non-null    object \n",
      "dtypes: float64(4), int64(1), object(1)\n",
      "memory usage: 7.2+ KB\n",
      "   Id  SepalLengthCm  SepalWidthCm  PetalLengthCm  PetalWidthCm      Species\n",
      "0   1            5.1           3.5            1.4           0.2  Iris-setosa\n",
      "1   2            4.9           3.0            1.4           0.2  Iris-setosa\n",
      "2   3            4.7           3.2            1.3           0.2  Iris-setosa\n",
      "3   4            4.6           3.1            1.5           0.2  Iris-setosa\n",
      "4   5            5.0           3.6            1.4           0.2  Iris-setosa\n"
     ]
    }
   ],
   "source": [
    "import pandas as pd #Libreria\n",
    "\n",
    "url = 'https://raw.githubusercontent.com/AprendizajeProfundo/diplomado-ciencia-de-datos/5981db8517f000b55dff8f13319a1108495774a0/Aprendizaje_supervisado/Datos/Iris.csv'\n",
    "\n",
    "#https://github.com/AprendizajeProfundo/diplomado-ciencia-de-datos/tree/main/Aprendizaje_supervisado/Datos\n",
    "\n",
    "Iris = pd.read_csv(url) \n",
    "\n",
    "Iris.info()\n",
    "\n",
    "print(Iris.head()) # muestra las primeras 5 filas del DataFrame"
   ]
  },
  {
   "cell_type": "code",
   "execution_count": 2,
   "id": "1187d95a",
   "metadata": {},
   "outputs": [],
   "source": [
    "import pandas as pd\n",
    "import matplotlib.pyplot as plt\n",
    "\n",
    "class DescriptiveStats:\n",
    "    def __init__(self, file_path):\n",
    "        self.dataframe = pd.read_csv(file_path)\n",
    "    \n",
    "    def basic_stats(self):\n",
    "        return self.dataframe.describe()\n",
    "    \n",
    "    def available_vars(self):\n",
    "        return list(self.dataframe.columns)\n",
    "    \n",
    "    def var_stats(self, var_name):\n",
    "        if var_name not in self.available_vars():\n",
    "            raise ValueError(f\"{var_name} no se encuentra disponible en el dataset.\")\n",
    "        var_data = self.dataframe[var_name]\n",
    "        stats = {\n",
    "            \"media\": var_data.mean(),\n",
    "            \"mediana\": var_data.median(),\n",
    "            \"desviación\": var_data.std(),\n",
    "            \"q25\": var_data.quantile(0.25),\n",
    "            \"q50\": var_data.quantile(0.5),\n",
    "            \"q75\": var_data.quantile(0.75)\n",
    "        }\n",
    "        plt.hist(var_data)\n",
    "        plt.title(f\"Distribución de {var_name}\")\n",
    "        plt.xlabel(var_name)\n",
    "        plt.ylabel(\"Frecuencia\")\n",
    "        plt.show()\n",
    "        return stats\n"
   ]
  },
  {
   "cell_type": "code",
   "execution_count": 3,
   "id": "e0599b6e",
   "metadata": {},
   "outputs": [
    {
     "name": "stdout",
     "output_type": "stream",
     "text": [
      "               Id  SepalLengthCm  SepalWidthCm  PetalLengthCm  PetalWidthCm\n",
      "count  150.000000     150.000000    150.000000     150.000000    150.000000\n",
      "mean    75.500000       5.843333      3.054000       3.758667      1.198667\n",
      "std     43.445368       0.828066      0.433594       1.764420      0.763161\n",
      "min      1.000000       4.300000      2.000000       1.000000      0.100000\n",
      "25%     38.250000       5.100000      2.800000       1.600000      0.300000\n",
      "50%     75.500000       5.800000      3.000000       4.350000      1.300000\n",
      "75%    112.750000       6.400000      3.300000       5.100000      1.800000\n",
      "max    150.000000       7.900000      4.400000       6.900000      2.500000\n",
      "['Id', 'SepalLengthCm', 'SepalWidthCm', 'PetalLengthCm', 'PetalWidthCm', 'Species']\n"
     ]
    },
    {
     "data": {
      "image/png": "[encoded data removed]",
      "text/plain": [
       "<Figure size 640x480 with 1 Axes>"
      ]
     },
     "metadata": {},
     "output_type": "display_data"
    },
    {
     "name": "stdout",
     "output_type": "stream",
     "text": [
      "{'media': 5.843333333333335, 'mediana': 5.8, 'desviación': 0.8280661279778629, 'q25': 5.1, 'q50': 5.8, 'q75': 6.4}\n"
     ]
    }
   ],
   "source": [
    "ds = DescriptiveStats(url)\n",
    "print(ds.basic_stats())\n",
    "print(ds.available_vars())\n",
    "print(ds.var_stats(\"SepalLengthCm\"))"
   ]
  }
 ],
 "metadata": {
  "kernelspec": {
   "display_name": "Python 3 (ipykernel)",
   "language": "python",
   "name": "python3"
  },
  "language_info": {
   "codemirror_mode": {
    "name": "ipython",
    "version": 3
   },
   "file_extension": ".py",
   "mimetype": "text/x-python",
   "name": "python",
   "nbconvert_exporter": "python",
   "pygments_lexer": "ipython3",
   "version": "3.9.13"
  }
 },
 "nbformat": 4,
 "nbformat_minor": 5
}
