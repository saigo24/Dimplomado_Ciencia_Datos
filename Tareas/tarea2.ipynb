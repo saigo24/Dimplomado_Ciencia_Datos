{
 "cells": [
  {
   "cell_type": "markdown",
   "id": "e37da705",
   "metadata": {},
   "source": [
    "<h1><span style=\"color:#063970\"><center>Tarea 2: Funciones</center></span></h1>"
   ]
  },
  {
   "cell_type": "markdown",
   "id": "c7e9c865",
   "metadata": {},
   "source": [
    "Santiago Flórez "
   ]
  },
  {
   "cell_type": "markdown",
   "id": "34708e78",
   "metadata": {},
   "source": [
    "1. Escriba una función  que reciba la fecha de nacimiento de un a persona y calcule la edad de la persona"
   ]
  },
  {
   "cell_type": "code",
   "execution_count": 19,
   "id": "d7b8ec32",
   "metadata": {},
   "outputs": [],
   "source": [
    "from datetime import date\n",
    "\n",
    "def calculoedad(fechanacimiento):\n",
    "    hoy = date.today()\n",
    "    edad = hoy.year - fechanacimiento.year - ((hoy.month, hoy.day) < (fechanacimiento.month, fechanacimiento.day))\n",
    "    return edad"
   ]
  },
  {
   "cell_type": "code",
   "execution_count": 21,
   "id": "20493f7b",
   "metadata": {},
   "outputs": [
    {
     "name": "stdout",
     "output_type": "stream",
     "text": [
      "21\n"
     ]
    }
   ],
   "source": [
    "print(calculoedad(date(2001,10,10)))"
   ]
  },
  {
   "cell_type": "markdown",
   "id": "2d000cc6",
   "metadata": {},
   "source": [
    "2. Crea una función EscribirCentrado, que reciba como parámetro un texto y lo escriba centrado en pantalla (suponiendo una anchura de 80 columnas; pista: deberás escribir 40 - longitud/2 espacios antes del texto).  "
   ]
  },
  {
   "cell_type": "code",
   "execution_count": 24,
   "id": "aa68aaf7",
   "metadata": {},
   "outputs": [],
   "source": [
    "def EscribirCentrado(texto):\n",
    "    longitud_texto = len(texto)\n",
    "    espacios = \" \" * (40 - longitud_texto // 2)\n",
    "    print(espacios + texto)"
   ]
  },
  {
   "cell_type": "code",
   "execution_count": 29,
   "id": "5e6271f5",
   "metadata": {},
   "outputs": [
    {
     "name": "stdout",
     "output_type": "stream",
     "text": [
      "                                  ¡Hola, mundo!\n"
     ]
    }
   ],
   "source": [
    "EscribirCentrado(\"¡Hola, mundo!\")"
   ]
  },
  {
   "cell_type": "markdown",
   "id": "c2f1774b",
   "metadata": {},
   "source": [
    "3. Construya una función decorada que reciba un texto y lo escriba marcado con Markdown en itálica y resaltada (bold). Revise la lección de decoradores, no vista en clase.\n"
   ]
  },
  {
   "cell_type": "code",
   "execution_count": 30,
   "id": "c1e464f6",
   "metadata": {},
   "outputs": [],
   "source": [
    "# decoradores\n",
    "def make_bold(fn):\n",
    "    def makebold_wrapper():\n",
    "        return \"<b>\" + fn() + \"</b>\"\n",
    "    return makebold_wrapper\n",
    "\n",
    "def make_italic(fn):\n",
    "    def makeitalic_wrapper():\n",
    "        return \"<i>\" + fn() + \"</i>\"\n",
    "    return makeitalic_wrapper\n"
   ]
  },
  {
   "cell_type": "code",
   "execution_count": 32,
   "id": "c047e259",
   "metadata": {},
   "outputs": [
    {
     "name": "stdout",
     "output_type": "stream",
     "text": [
      "<b><i>hola mundo</i></b>\n"
     ]
    }
   ],
   "source": [
    "@make_bold\n",
    "@make_italic\n",
    "def hola():\n",
    "    return 'hola mundo'\n",
    "\n",
    "print(hola())"
   ]
  },
  {
   "cell_type": "markdown",
   "id": "b35c7f24",
   "metadata": {},
   "source": [
    "4.  Crea un programa que pida dos número enteros al usuario y diga si alguno de ellos es múltiplo del otro. "
   ]
  },
  {
   "cell_type": "code",
   "execution_count": 34,
   "id": "8a478c80",
   "metadata": {},
   "outputs": [
    {
     "name": "stdout",
     "output_type": "stream",
     "text": [
      "Introduce el primer número entero: 2\n",
      "Introduce el segundo número entero: 5\n",
      "2 y 5 no son múltiplos entre sí.\n"
     ]
    }
   ],
   "source": [
    "def es_multiplo(a, b):\n",
    "    if a % b == 0 or b % a == 0:\n",
    "        return True\n",
    "    else:\n",
    "        return False\n",
    "\n",
    "num1 = int(input(\"Introduce el primer número entero: \"))\n",
    "num2 = int(input(\"Introduce el segundo número entero: \"))\n",
    "\n",
    "if es_multiplo(num1, num2):\n",
    "    print(f\"{num1} es múltiplo de {num2} o viceversa.\")\n",
    "else:\n",
    "    print(f\"{num1} y {num2} no son múltiplos entre sí.\")\n"
   ]
  },
  {
   "cell_type": "markdown",
   "id": "79e2cab1",
   "metadata": {},
   "source": [
    "\n",
    "5. Crear una función re reciba una lista  de 24 valores de temperatura leída  hora en un día y que calcule la temperatura media  Cree una lista con 24 valores de temperatura de un día de Bogotá y pruebe su función. Invente los datos."
   ]
  },
  {
   "cell_type": "code",
   "execution_count": 36,
   "id": "c191053c",
   "metadata": {},
   "outputs": [],
   "source": [
    "def temperatura_media(temperaturas):\n",
    "    n = len(temperaturas)\n",
    "    suma = sum(temperaturas)\n",
    "    media = suma / n\n",
    "    return media\n"
   ]
  },
  {
   "cell_type": "code",
   "execution_count": 37,
   "id": "7815dae2",
   "metadata": {},
   "outputs": [
    {
     "name": "stdout",
     "output_type": "stream",
     "text": [
      "La temperatura media en Bogotá fue de 12.999999999999998 grados.\n"
     ]
    }
   ],
   "source": [
    "temperaturas_bogota = [12.5, 13.0, 12.8, 12.9, 12.7, 12.6, 12.3, 12.2, 12.0, 11.8, 12.1, 12.5, 13.0, 13.5, 13.8, 14.0, 14.2, 14.1, 13.9, 13.7, 13.4, 13.2, 13.0, 12.8]\n",
    "media_bogota = temperatura_media(temperaturas_bogota)\n",
    "print(f\"La temperatura media en Bogotá fue de {media_bogota} grados.\")"
   ]
  },
  {
   "cell_type": "markdown",
   "id": "77182329",
   "metadata": {},
   "source": [
    "5. Crea un función “ConvertirEspaciado”, que reciba como parámetro un texto y devuelve una cadena con un espacio adicional tras cada letra. Por ejemplo, “Hola, tú” devolverá “H o l a , t ú “.  Pruebe \n"
   ]
  },
  {
   "cell_type": "code",
   "execution_count": 38,
   "id": "852ee622",
   "metadata": {},
   "outputs": [],
   "source": [
    "def ConvertirEspaciado(texto):\n",
    "    texto_convertido = \" \".join(list(texto))\n",
    "    return texto_convertido\n"
   ]
  },
  {
   "cell_type": "code",
   "execution_count": 41,
   "id": "a8cd2d89",
   "metadata": {},
   "outputs": [
    {
     "name": "stdout",
     "output_type": "stream",
     "text": [
      "H o l a ,   t ú\n"
     ]
    }
   ],
   "source": [
    "texto_original = \"Hola, tú\"\n",
    "texto_convertido = ConvertirEspaciado(texto_original)\n",
    "print(texto_convertido)"
   ]
  },
  {
   "cell_type": "code",
   "execution_count": 42,
   "id": "ee7526b4",
   "metadata": {},
   "outputs": [
    {
     "name": "stdout",
     "output_type": "stream",
     "text": [
      "T h i s   i s   n o t   a   t e s t\n"
     ]
    }
   ],
   "source": [
    "texto_original = \"This is not a test\"\n",
    "texto_convertido = ConvertirEspaciado(texto_original)\n",
    "print(texto_convertido)"
   ]
  },
  {
   "cell_type": "markdown",
   "id": "1d24a4ef",
   "metadata": {},
   "source": [
    "6. Crea una función “calcularMaxMin” que recibe una arreglo con valores numérico y devuelve el valor máximo y el mínimo. "
   ]
  },
  {
   "cell_type": "code",
   "execution_count": 43,
   "id": "1e30a9f3",
   "metadata": {},
   "outputs": [],
   "source": [
    "def calcularMaxMin(valores):\n",
    "    maximo = max(valores)\n",
    "    minimo = min(valores)\n",
    "    return (maximo, minimo)"
   ]
  },
  {
   "cell_type": "code",
   "execution_count": 45,
   "id": "4348b981",
   "metadata": {},
   "outputs": [
    {
     "name": "stdout",
     "output_type": "stream",
     "text": [
      "El valor máximo es 10 y el valor mínimo es -1.\n"
     ]
    }
   ],
   "source": [
    "valores = [5, 2, 8, 3, 1, 6, 9, 4, 7,10,-1]\n",
    "maximo, minimo = calcularMaxMin(valores)\n",
    "print(f\"El valor máximo es {maximo} y el valor mínimo es {minimo}.\")"
   ]
  },
  {
   "cell_type": "markdown",
   "id": "f7623145",
   "metadata": {},
   "source": [
    "7.  Diseñar una función que calcule el área y el perímetro de una circunferencia. \n"
   ]
  },
  {
   "cell_type": "code",
   "execution_count": 48,
   "id": "ea542eb5",
   "metadata": {},
   "outputs": [],
   "source": [
    "import math\n",
    "\n",
    "def calcularAPCirc(radio):\n",
    "    area = math.pi * radio**2\n",
    "    perimetro = 2 * math.pi * radio\n",
    "    return (area, perimetro)\n"
   ]
  },
  {
   "cell_type": "code",
   "execution_count": 49,
   "id": "0b7d27d5",
   "metadata": {},
   "outputs": [
    {
     "data": {
      "text/plain": [
       "(12.566370614359172, 12.566370614359172)"
      ]
     },
     "execution_count": 49,
     "metadata": {},
     "output_type": "execute_result"
    }
   ],
   "source": [
    "calcularAPCirc(2)"
   ]
  },
  {
   "cell_type": "code",
   "execution_count": 50,
   "id": "760376d6",
   "metadata": {},
   "outputs": [
    {
     "data": {
      "text/plain": [
       "(28.274333882308138, 18.84955592153876)"
      ]
     },
     "execution_count": 50,
     "metadata": {},
     "output_type": "execute_result"
    }
   ],
   "source": [
    "calcularAPCirc(3)"
   ]
  },
  {
   "cell_type": "markdown",
   "id": "95283839",
   "metadata": {},
   "source": [
    "8. Crear una función  llamada “Login”, que recibe un nombre de usuario y una contraseña y devuelva Verdadero si el nombre de usuario es “usuario1” y la contraseña es “asdasd”. Además recibe el número de intentos que se ha intentado hacer login y si no se ha podido hacer login incremente este valor.\n"
   ]
  },
  {
   "cell_type": "code",
   "execution_count": 94,
   "id": "c742c10b",
   "metadata": {},
   "outputs": [],
   "source": [
    "intentos=0\n",
    "def Login(usuario, contrasena):\n",
    "    global intentos\n",
    "    if usuario == \"usuario1\" and contrasena == \"asdasd\":             \n",
    "        return(f\"Inicio de sesión exitoso. Se han realizado {intentos} intentos de inicio de sesión.\")\n",
    "    else:            \n",
    "        intentos += 1        \n",
    "        return(f\"Nombre de usuario o contraseña incorrectos. Se han realizado {intentos} intentos de inicio de sesión.\")"
   ]
  },
  {
   "cell_type": "code",
   "execution_count": 95,
   "id": "9ccc7ece",
   "metadata": {},
   "outputs": [
    {
     "name": "stdout",
     "output_type": "stream",
     "text": [
      "Nombre de usuario o contraseña incorrectos. Se han realizado 1 intentos de inicio de sesión.\n"
     ]
    }
   ],
   "source": [
    "usuario = \"usuario1\"\n",
    "contrasena = \"asdad\"\n",
    "print( Login(usuario, contrasena))"
   ]
  },
  {
   "cell_type": "code",
   "execution_count": 96,
   "id": "ec1210a8",
   "metadata": {},
   "outputs": [
    {
     "name": "stdout",
     "output_type": "stream",
     "text": [
      "Nombre de usuario o contraseña incorrectos. Se han realizado 2 intentos de inicio de sesión.\n"
     ]
    }
   ],
   "source": [
    "usuario = \"usuario1\"\n",
    "contrasena = \"asdad\"\n",
    "print( Login(usuario, contrasena))"
   ]
  },
  {
   "cell_type": "code",
   "execution_count": 97,
   "id": "ae6b167c",
   "metadata": {},
   "outputs": [
    {
     "name": "stdout",
     "output_type": "stream",
     "text": [
      "Inicio de sesión exitoso. Se han realizado 2 intentos de inicio de sesión.\n"
     ]
    }
   ],
   "source": [
    "usuario = \"usuario1\"\n",
    "contrasena = \"asdasd\"\n",
    "print( Login(usuario, contrasena))"
   ]
  },
  {
   "cell_type": "markdown",
   "id": "cfba2652",
   "metadata": {},
   "source": [
    "9. Crear una función recursiva que permita calcular el factorial de un número. Realiza un programa principal donde se lea un entero y se muestre el resultado del factorial. Revise la lección de funciones.\n"
   ]
  },
  {
   "cell_type": "code",
   "execution_count": 99,
   "id": "aa9d11bf",
   "metadata": {},
   "outputs": [],
   "source": [
    "def factorial(n):\n",
    "    if n == 1:\n",
    "        return 1\n",
    "    else:\n",
    "        return n * factorial(n-1)"
   ]
  },
  {
   "cell_type": "code",
   "execution_count": 100,
   "id": "0a104ea6",
   "metadata": {},
   "outputs": [
    {
     "name": "stdout",
     "output_type": "stream",
     "text": [
      "Ingrese un número entero positivo: 5\n",
      "El factorial de 5 es 120.\n"
     ]
    }
   ],
   "source": [
    "numero = int(input(\"Ingrese un número entero positivo: \"))\n",
    "resultado = factorial(numero)\n",
    "print(f\"El factorial de {numero} es {resultado}.\")"
   ]
  },
  {
   "cell_type": "markdown",
   "id": "79277a84",
   "metadata": {},
   "source": [
    "10. Escribir dos funciones que permitan calcular:\n",
    "La cantidad de segundos en un tiempo dado en horas, minutos y segundos.\n",
    "La cantidad de horas, minutos y segundos de un tiempo dado en segundos\n"
   ]
  },
  {
   "cell_type": "code",
   "execution_count": 101,
   "id": "2f386e16",
   "metadata": {},
   "outputs": [],
   "source": [
    "def segundos_totales(horas, minutos, segundos):\n",
    "    return horas * 3600 + minutos * 60 + segundos"
   ]
  },
  {
   "cell_type": "code",
   "execution_count": 102,
   "id": "4ea0e5a5",
   "metadata": {},
   "outputs": [],
   "source": [
    "def tiempo_desglosado(segundos):\n",
    "    horas = segundos // 3600\n",
    "    segundos_restantes = segundos % 3600\n",
    "    minutos = segundos_restantes // 60\n",
    "    segundos_finales = segundos_restantes % 60\n",
    "    return horas, minutos, segundos_finales"
   ]
  },
  {
   "cell_type": "code",
   "execution_count": 103,
   "id": "1b705dbe",
   "metadata": {},
   "outputs": [
    {
     "name": "stdout",
     "output_type": "stream",
     "text": [
      "9015 segundos en total\n",
      "2 horas, 30 minutos, 15 segundos\n"
     ]
    }
   ],
   "source": [
    "segundos = segundos_totales(2, 30, 15)\n",
    "print(f\"{segundos} segundos en total\")\n",
    "\n",
    "horas, minutos, segundos = tiempo_desglosado(segundos)\n",
    "print(f\"{horas} horas, {minutos} minutos, {segundos} segundos\")\n"
   ]
  },
  {
   "cell_type": "markdown",
   "id": "00288763",
   "metadata": {},
   "source": [
    "11. Crea una función  que lea una tupla, invierta los valores de la tupla y regrese una nueva tupla invirtiendo los valores. Recuerde que las tuplas son inmutables.\n"
   ]
  },
  {
   "cell_type": "code",
   "execution_count": 104,
   "id": "e72e82da",
   "metadata": {},
   "outputs": [],
   "source": [
    "def invertir_tupla(tupla):\n",
    "    nueva_tupla = tuple([tupla[i] for i in range(len(tupla)-1, -1, -1)])\n",
    "    return nueva_tupla"
   ]
  },
  {
   "cell_type": "code",
   "execution_count": 106,
   "id": "8bfb2579",
   "metadata": {},
   "outputs": [
    {
     "name": "stdout",
     "output_type": "stream",
     "text": [
      "(4, 3, 2, 2, 4, 3, 2, 1)\n"
     ]
    }
   ],
   "source": [
    "tupla_original = (1,2,3,4,2,2,3,4)\n",
    "nueva_tupla = invertir_tupla(tupla_original)\n",
    "print(nueva_tupla)"
   ]
  },
  {
   "cell_type": "markdown",
   "id": "701c1a3c",
   "metadata": {},
   "source": [
    "12. Escriba una función que lea una lista y calcule la media geométrica de sus valores, usando funtools.reduce."
   ]
  },
  {
   "cell_type": "code",
   "execution_count": 107,
   "id": "dd5768c2",
   "metadata": {},
   "outputs": [],
   "source": [
    "import functools\n",
    "\n",
    "def geometric_mean(lst):\n",
    "    product = functools.reduce(lambda x, y: x * y, lst)\n",
    "    return product ** (1.0 / len(lst))"
   ]
  },
  {
   "cell_type": "code",
   "execution_count": 108,
   "id": "fa11345b",
   "metadata": {},
   "outputs": [
    {
     "name": "stdout",
     "output_type": "stream",
     "text": [
      "5.210342169394704\n"
     ]
    }
   ],
   "source": [
    "lst = [2, 4, 6, 8,10]\n",
    "print(geometric_mean(lst))  # Output: 4.0\n"
   ]
  }
 ],
 "metadata": {
  "kernelspec": {
   "display_name": "Python 3 (ipykernel)",
   "language": "python",
   "name": "python3"
  },
  "language_info": {
   "codemirror_mode": {
    "name": "ipython",
    "version": 3
   },
   "file_extension": ".py",
   "mimetype": "text/x-python",
   "name": "python",
   "nbconvert_exporter": "python",
   "pygments_lexer": "ipython3",
   "version": "3.9.7"
  }
 },
 "nbformat": 4,
 "nbformat_minor": 5
}
