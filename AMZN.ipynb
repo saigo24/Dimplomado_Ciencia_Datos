{
  "nbformat": 4,
  "nbformat_minor": 0,
  "metadata": {
    "colab": {
      "provenance": [],
      "authorship_tag": "ABX9TyPamsG2ZMnAmpMqA9qND2XN",
      "include_colab_link": true
    },
    "kernelspec": {
      "name": "python3",
      "display_name": "Python 3"
    },
    "language_info": {
      "name": "python"
    }
  },
  "cells": [
    {
      "cell_type": "markdown",
      "metadata": {
        "id": "view-in-github",
        "colab_type": "text"
      },
      "source": [
        "<a href=\"https://colab.research.google.com/github/saigo24/Dimplomado_Ciencia_Datos/blob/main/AMZN.ipynb\" target=\"_parent\"><img src=\"https://colab.research.google.com/assets/colab-badge.svg\" alt=\"Open In Colab\"/></a>"
      ]
    },
    {
      "cell_type": "markdown",
      "source": [
        "#Librerias\n"
      ],
      "metadata": {
        "id": "QwsHL21RTwMK"
      }
    },
    {
      "cell_type": "code",
      "execution_count": null,
      "metadata": {
        "colab": {
          "base_uri": "https://localhost:8080/"
        },
        "id": "_HdVQamTOuId",
        "outputId": "95666791-d170-4a27-87ee-ba0db851749b"
      },
      "outputs": [
        {
          "output_type": "stream",
          "name": "stdout",
          "text": [
            "Versión de Tensorflow:  2.11.0\n"
          ]
        }
      ],
      "source": [
        "from __future__ import absolute_import, division, print_function, unicode_literals\n",
        "import tensorflow as tf\n",
        "import pandas as pd\n",
        "import numpy as np\n",
        "import matplotlib.pyplot as plt\n",
        "#%matplotlib inline\n",
        "from sklearn.preprocessing import MinMaxScaler\n",
        "\n",
        "#setting figure size\n",
        "from matplotlib.pylab import rcParams\n",
        "rcParams['figure.figsize'] = 20,10\n",
        "\n",
        "#importing required libraries\n",
        "from sklearn.preprocessing import MinMaxScaler\n",
        "\n",
        "# importa objetos de keras\n",
        "from tensorflow.keras.models import Model\n",
        "from tensorflow.keras.layers import Input, Dense, Dropout, LSTM\n",
        "print(\"Versión de Tensorflow: \", tf.__version__)\n",
        "\n",
        "# optimizador\n",
        "from tensorflow.keras.optimizers import Adam\n",
        "\n",
        "#Early\n",
        "from tensorflow.keras.callbacks import EarlyStopping\n"
      ]
    },
    {
      "cell_type": "code",
      "source": [
        "pip install torch pytorch-lightning pytorch_forecasting"
      ],
      "metadata": {
        "colab": {
          "base_uri": "https://localhost:8080/",
          "height": 1000
        },
        "id": "eIbr6Hm6TaiV",
        "outputId": "dfef0d2a-db14-4f8f-ef4c-a56120c9c1ee"
      },
      "execution_count": null,
      "outputs": [
        {
          "output_type": "stream",
          "name": "stdout",
          "text": [
            "Looking in indexes: https://pypi.org/simple, https://us-python.pkg.dev/colab-wheels/public/simple/\n",
            "Requirement already satisfied: torch in /usr/local/lib/python3.9/dist-packages (1.13.1+cu116)\n",
            "Collecting pytorch-lightning\n",
            "  Downloading pytorch_lightning-2.0.0-py3-none-any.whl (715 kB)\n",
            "\u001b[2K     \u001b[90m━━━━━━━━━━━━━━━━━━━━━━━━━━━━━━━━━━━━━━\u001b[0m \u001b[32m715.6/715.6 KB\u001b[0m \u001b[31m12.6 MB/s\u001b[0m eta \u001b[36m0:00:00\u001b[0m\n",
            "\u001b[?25hCollecting pytorch_forecasting\n",
            "  Downloading pytorch_forecasting-0.10.3-py3-none-any.whl (141 kB)\n",
            "\u001b[2K     \u001b[90m━━━━━━━━━━━━━━━━━━━━━━━━━━━━━━━━━━━━━━\u001b[0m \u001b[32m141.4/141.4 KB\u001b[0m \u001b[31m17.8 MB/s\u001b[0m eta \u001b[36m0:00:00\u001b[0m\n",
            "\u001b[?25hRequirement already satisfied: typing-extensions in /usr/local/lib/python3.9/dist-packages (from torch) (4.5.0)\n",
            "Requirement already satisfied: numpy>=1.17.2 in /usr/local/lib/python3.9/dist-packages (from pytorch-lightning) (1.22.4)\n",
            "Collecting lightning-utilities>=0.7.0\n",
            "  Downloading lightning_utilities-0.8.0-py3-none-any.whl (20 kB)\n",
            "Requirement already satisfied: PyYAML>=5.4 in /usr/local/lib/python3.9/dist-packages (from pytorch-lightning) (6.0)\n",
            "Requirement already satisfied: packaging>=17.1 in /usr/local/lib/python3.9/dist-packages (from pytorch-lightning) (23.0)\n",
            "Collecting torchmetrics>=0.7.0\n",
            "  Downloading torchmetrics-0.11.4-py3-none-any.whl (519 kB)\n",
            "\u001b[2K     \u001b[90m━━━━━━━━━━━━━━━━━━━━━━━━━━━━━━━━━━━━━━\u001b[0m \u001b[32m519.2/519.2 KB\u001b[0m \u001b[31m51.5 MB/s\u001b[0m eta \u001b[36m0:00:00\u001b[0m\n",
            "\u001b[?25hRequirement already satisfied: fsspec[http]>2021.06.0 in /usr/local/lib/python3.9/dist-packages (from pytorch-lightning) (2023.3.0)\n",
            "Requirement already satisfied: tqdm>=4.57.0 in /usr/local/lib/python3.9/dist-packages (from pytorch-lightning) (4.65.0)\n",
            "Collecting pytorch-lightning\n",
            "  Downloading pytorch_lightning-1.9.4-py3-none-any.whl (827 kB)\n",
            "\u001b[2K     \u001b[90m━━━━━━━━━━━━━━━━━━━━━━━━━━━━━━━━━━━━━━\u001b[0m \u001b[32m827.8/827.8 KB\u001b[0m \u001b[31m66.7 MB/s\u001b[0m eta \u001b[36m0:00:00\u001b[0m\n",
            "\u001b[?25hRequirement already satisfied: pandas<2.0.0,>=1.3.0 in /usr/local/lib/python3.9/dist-packages (from pytorch_forecasting) (1.4.4)\n",
            "Collecting optuna<3.0.0,>=2.3.0\n",
            "  Downloading optuna-2.10.1-py3-none-any.whl (308 kB)\n",
            "\u001b[2K     \u001b[90m━━━━━━━━━━━━━━━━━━━━━━━━━━━━━━━━━━━━━━\u001b[0m \u001b[32m308.2/308.2 KB\u001b[0m \u001b[31m40.0 MB/s\u001b[0m eta \u001b[36m0:00:00\u001b[0m\n",
            "\u001b[?25hCollecting scikit-learn<1.2,>=0.24\n",
            "  Downloading scikit_learn-1.1.3-cp39-cp39-manylinux_2_17_x86_64.manylinux2014_x86_64.whl (30.8 MB)\n",
            "\u001b[2K     \u001b[90m━━━━━━━━━━━━━━━━━━━━━━━━━━━━━━━━━━━━━━━━\u001b[0m \u001b[32m30.8/30.8 MB\u001b[0m \u001b[31m38.6 MB/s\u001b[0m eta \u001b[36m0:00:00\u001b[0m\n",
            "\u001b[?25hRequirement already satisfied: scipy<2.0,>=1.8 in /usr/local/lib/python3.9/dist-packages (from pytorch_forecasting) (1.10.1)\n",
            "Requirement already satisfied: statsmodels in /usr/local/lib/python3.9/dist-packages (from pytorch_forecasting) (0.13.5)\n",
            "Requirement already satisfied: matplotlib in /usr/local/lib/python3.9/dist-packages (from pytorch_forecasting) (3.7.1)\n",
            "Requirement already satisfied: requests in /usr/local/lib/python3.9/dist-packages (from fsspec[http]>2021.06.0->pytorch-lightning) (2.27.1)\n",
            "Collecting aiohttp!=4.0.0a0,!=4.0.0a1\n",
            "  Downloading aiohttp-3.8.4-cp39-cp39-manylinux_2_17_x86_64.manylinux2014_x86_64.whl (1.0 MB)\n",
            "\u001b[2K     \u001b[90m━━━━━━━━━━━━━━━━━━━━━━━━━━━━━━━━━━━━━━━━\u001b[0m \u001b[32m1.0/1.0 MB\u001b[0m \u001b[31m69.7 MB/s\u001b[0m eta \u001b[36m0:00:00\u001b[0m\n",
            "\u001b[?25hCollecting alembic\n",
            "  Downloading alembic-1.10.2-py3-none-any.whl (212 kB)\n",
            "\u001b[2K     \u001b[90m━━━━━━━━━━━━━━━━━━━━━━━━━━━━━━━━━━━━━━\u001b[0m \u001b[32m212.2/212.2 KB\u001b[0m \u001b[31m29.5 MB/s\u001b[0m eta \u001b[36m0:00:00\u001b[0m\n",
            "\u001b[?25hCollecting cmaes>=0.8.2\n",
            "  Downloading cmaes-0.9.1-py3-none-any.whl (21 kB)\n",
            "Collecting colorlog\n",
            "  Downloading colorlog-6.7.0-py2.py3-none-any.whl (11 kB)\n",
            "Requirement already satisfied: sqlalchemy>=1.1.0 in /usr/local/lib/python3.9/dist-packages (from optuna<3.0.0,>=2.3.0->pytorch_forecasting) (1.4.47)\n",
            "Collecting cliff\n",
            "  Downloading cliff-4.2.0-py3-none-any.whl (81 kB)\n",
            "\u001b[2K     \u001b[90m━━━━━━━━━━━━━━━━━━━━━━━━━━━━━━━━━━━━━━━━\u001b[0m \u001b[32m81.0/81.0 KB\u001b[0m \u001b[31m11.7 MB/s\u001b[0m eta \u001b[36m0:00:00\u001b[0m\n",
            "\u001b[?25hRequirement already satisfied: python-dateutil>=2.8.1 in /usr/local/lib/python3.9/dist-packages (from pandas<2.0.0,>=1.3.0->pytorch_forecasting) (2.8.2)\n",
            "Requirement already satisfied: pytz>=2020.1 in /usr/local/lib/python3.9/dist-packages (from pandas<2.0.0,>=1.3.0->pytorch_forecasting) (2022.7.1)\n",
            "Requirement already satisfied: joblib>=1.0.0 in /usr/local/lib/python3.9/dist-packages (from scikit-learn<1.2,>=0.24->pytorch_forecasting) (1.1.1)\n",
            "Requirement already satisfied: threadpoolctl>=2.0.0 in /usr/local/lib/python3.9/dist-packages (from scikit-learn<1.2,>=0.24->pytorch_forecasting) (3.1.0)\n",
            "Requirement already satisfied: cycler>=0.10 in /usr/local/lib/python3.9/dist-packages (from matplotlib->pytorch_forecasting) (0.11.0)\n",
            "Requirement already satisfied: fonttools>=4.22.0 in /usr/local/lib/python3.9/dist-packages (from matplotlib->pytorch_forecasting) (4.39.2)\n",
            "Requirement already satisfied: pillow>=6.2.0 in /usr/local/lib/python3.9/dist-packages (from matplotlib->pytorch_forecasting) (8.4.0)\n",
            "Requirement already satisfied: contourpy>=1.0.1 in /usr/local/lib/python3.9/dist-packages (from matplotlib->pytorch_forecasting) (1.0.7)\n",
            "Requirement already satisfied: pyparsing>=2.3.1 in /usr/local/lib/python3.9/dist-packages (from matplotlib->pytorch_forecasting) (3.0.9)\n",
            "Requirement already satisfied: importlib-resources>=3.2.0 in /usr/local/lib/python3.9/dist-packages (from matplotlib->pytorch_forecasting) (5.12.0)\n",
            "Requirement already satisfied: kiwisolver>=1.0.1 in /usr/local/lib/python3.9/dist-packages (from matplotlib->pytorch_forecasting) (1.4.4)\n",
            "Requirement already satisfied: patsy>=0.5.2 in /usr/local/lib/python3.9/dist-packages (from statsmodels->pytorch_forecasting) (0.5.3)\n",
            "Collecting async-timeout<5.0,>=4.0.0a3\n",
            "  Downloading async_timeout-4.0.2-py3-none-any.whl (5.8 kB)\n",
            "Collecting yarl<2.0,>=1.0\n",
            "  Downloading yarl-1.8.2-cp39-cp39-manylinux_2_17_x86_64.manylinux2014_x86_64.whl (264 kB)\n",
            "\u001b[2K     \u001b[90m━━━━━━━━━━━━━━━━━━━━━━━━━━━━━━━━━━━━━━\u001b[0m \u001b[32m264.6/264.6 KB\u001b[0m \u001b[31m29.8 MB/s\u001b[0m eta \u001b[36m0:00:00\u001b[0m\n",
            "\u001b[?25hRequirement already satisfied: attrs>=17.3.0 in /usr/local/lib/python3.9/dist-packages (from aiohttp!=4.0.0a0,!=4.0.0a1->fsspec[http]>2021.06.0->pytorch-lightning) (22.2.0)\n",
            "Collecting multidict<7.0,>=4.5\n",
            "  Downloading multidict-6.0.4-cp39-cp39-manylinux_2_17_x86_64.manylinux2014_x86_64.whl (114 kB)\n",
            "\u001b[2K     \u001b[90m━━━━━━━━━━━━━━━━━━━━━━━━━━━━━━━━━━━━━━\u001b[0m \u001b[32m114.2/114.2 KB\u001b[0m \u001b[31m15.2 MB/s\u001b[0m eta \u001b[36m0:00:00\u001b[0m\n",
            "\u001b[?25hCollecting aiosignal>=1.1.2\n",
            "  Downloading aiosignal-1.3.1-py3-none-any.whl (7.6 kB)\n",
            "Collecting frozenlist>=1.1.1\n",
            "  Downloading frozenlist-1.3.3-cp39-cp39-manylinux_2_5_x86_64.manylinux1_x86_64.manylinux_2_17_x86_64.manylinux2014_x86_64.whl (158 kB)\n",
            "\u001b[2K     \u001b[90m━━━━━━━━━━━━━━━━━━━━━━━━━━━━━━━━━━━━━━\u001b[0m \u001b[32m158.8/158.8 KB\u001b[0m \u001b[31m22.5 MB/s\u001b[0m eta \u001b[36m0:00:00\u001b[0m\n",
            "\u001b[?25hRequirement already satisfied: charset-normalizer<4.0,>=2.0 in /usr/local/lib/python3.9/dist-packages (from aiohttp!=4.0.0a0,!=4.0.0a1->fsspec[http]>2021.06.0->pytorch-lightning) (2.0.12)\n",
            "Requirement already satisfied: zipp>=3.1.0 in /usr/local/lib/python3.9/dist-packages (from importlib-resources>=3.2.0->matplotlib->pytorch_forecasting) (3.15.0)\n",
            "Requirement already satisfied: six in /usr/local/lib/python3.9/dist-packages (from patsy>=0.5.2->statsmodels->pytorch_forecasting) (1.16.0)\n",
            "Requirement already satisfied: greenlet!=0.4.17 in /usr/local/lib/python3.9/dist-packages (from sqlalchemy>=1.1.0->optuna<3.0.0,>=2.3.0->pytorch_forecasting) (2.0.2)\n",
            "Collecting Mako\n",
            "  Downloading Mako-1.2.4-py3-none-any.whl (78 kB)\n",
            "\u001b[2K     \u001b[90m━━━━━━━━━━━━━━━━━━━━━━━━━━━━━━━━━━━━━━━━\u001b[0m \u001b[32m78.7/78.7 KB\u001b[0m \u001b[31m12.6 MB/s\u001b[0m eta \u001b[36m0:00:00\u001b[0m\n",
            "\u001b[?25hRequirement already satisfied: PrettyTable>=0.7.2 in /usr/local/lib/python3.9/dist-packages (from cliff->optuna<3.0.0,>=2.3.0->pytorch_forecasting) (0.7.2)\n",
            "Collecting cmd2>=1.0.0\n",
            "  Downloading cmd2-2.4.3-py3-none-any.whl (147 kB)\n",
            "\u001b[2K     \u001b[90m━━━━━━━━━━━━━━━━━━━━━━━━━━━━━━━━━━━━━━\u001b[0m \u001b[32m147.2/147.2 KB\u001b[0m \u001b[31m21.6 MB/s\u001b[0m eta \u001b[36m0:00:00\u001b[0m\n",
            "\u001b[?25hCollecting stevedore>=2.0.1\n",
            "  Downloading stevedore-5.0.0-py3-none-any.whl (49 kB)\n",
            "\u001b[2K     \u001b[90m━━━━━━━━━━━━━━━━━━━━━━━━━━━━━━━━━━━━━━━━\u001b[0m \u001b[32m49.6/49.6 KB\u001b[0m \u001b[31m5.3 MB/s\u001b[0m eta \u001b[36m0:00:00\u001b[0m\n",
            "\u001b[?25hRequirement already satisfied: importlib-metadata>=4.4 in /usr/local/lib/python3.9/dist-packages (from cliff->optuna<3.0.0,>=2.3.0->pytorch_forecasting) (6.1.0)\n",
            "Collecting autopage>=0.4.0\n",
            "  Downloading autopage-0.5.1-py3-none-any.whl (29 kB)\n",
            "Requirement already satisfied: urllib3<1.27,>=1.21.1 in /usr/local/lib/python3.9/dist-packages (from requests->fsspec[http]>2021.06.0->pytorch-lightning) (1.26.15)\n",
            "Requirement already satisfied: idna<4,>=2.5 in /usr/local/lib/python3.9/dist-packages (from requests->fsspec[http]>2021.06.0->pytorch-lightning) (3.4)\n",
            "Requirement already satisfied: certifi>=2017.4.17 in /usr/local/lib/python3.9/dist-packages (from requests->fsspec[http]>2021.06.0->pytorch-lightning) (2022.12.7)\n",
            "Requirement already satisfied: wcwidth>=0.1.7 in /usr/local/lib/python3.9/dist-packages (from cmd2>=1.0.0->cliff->optuna<3.0.0,>=2.3.0->pytorch_forecasting) (0.2.6)\n",
            "Collecting pyperclip>=1.6\n",
            "  Downloading pyperclip-1.8.2.tar.gz (20 kB)\n",
            "  Preparing metadata (setup.py) ... \u001b[?25l\u001b[?25hdone\n",
            "Collecting pbr!=2.1.0,>=2.0.0\n",
            "  Downloading pbr-5.11.1-py2.py3-none-any.whl (112 kB)\n",
            "\u001b[2K     \u001b[90m━━━━━━━━━━━━━━━━━━━━━━━━━━━━━━━━━━━━━━\u001b[0m \u001b[32m112.7/112.7 KB\u001b[0m \u001b[31m15.6 MB/s\u001b[0m eta \u001b[36m0:00:00\u001b[0m\n",
            "\u001b[?25hRequirement already satisfied: MarkupSafe>=0.9.2 in /usr/local/lib/python3.9/dist-packages (from Mako->alembic->optuna<3.0.0,>=2.3.0->pytorch_forecasting) (2.1.2)\n",
            "Building wheels for collected packages: pyperclip\n",
            "  Building wheel for pyperclip (setup.py) ... \u001b[?25l\u001b[?25hdone\n",
            "  Created wheel for pyperclip: filename=pyperclip-1.8.2-py3-none-any.whl size=11135 sha256=c8fe0d73c027eeb228838d928f69f4f709cea5f04208091d83d983695a1d41ae\n",
            "  Stored in directory: /root/.cache/pip/wheels/0c/09/9e/49e21a6840ef7955b06d47394afef0058f0378c0914e48b8b8\n",
            "Successfully built pyperclip\n",
            "Installing collected packages: pyperclip, pbr, multidict, Mako, lightning-utilities, frozenlist, colorlog, cmd2, cmaes, autopage, async-timeout, yarl, torchmetrics, stevedore, scikit-learn, alembic, aiosignal, cliff, aiohttp, optuna, pytorch-lightning, pytorch_forecasting\n",
            "  Attempting uninstall: scikit-learn\n",
            "    Found existing installation: scikit-learn 1.2.2\n",
            "    Uninstalling scikit-learn-1.2.2:\n",
            "      Successfully uninstalled scikit-learn-1.2.2\n",
            "Successfully installed Mako-1.2.4 aiohttp-3.8.4 aiosignal-1.3.1 alembic-1.10.2 async-timeout-4.0.2 autopage-0.5.1 cliff-4.2.0 cmaes-0.9.1 cmd2-2.4.3 colorlog-6.7.0 frozenlist-1.3.3 lightning-utilities-0.8.0 multidict-6.0.4 optuna-2.10.1 pbr-5.11.1 pyperclip-1.8.2 pytorch-lightning-1.9.4 pytorch_forecasting-0.10.3 scikit-learn-1.1.3 stevedore-5.0.0 torchmetrics-0.11.4 yarl-1.8.2\n"
          ]
        },
        {
          "output_type": "display_data",
          "data": {
            "application/vnd.colab-display-data+json": {
              "pip_warning": {
                "packages": [
                  "sklearn"
                ]
              }
            }
          },
          "metadata": {}
        }
      ]
    },
    {
      "cell_type": "code",
      "source": [
        "from pytorch_forecasting import TimeSeriesDataSet, GroupNormalizer, TemporalFusionTransformer"
      ],
      "metadata": {
        "id": "xxvy9-lAeoDQ"
      },
      "execution_count": null,
      "outputs": []
    },
    {
      "cell_type": "markdown",
      "source": [
        "# Datos"
      ],
      "metadata": {
        "id": "1XbuohRJT7YO"
      }
    },
    {
      "cell_type": "code",
      "source": [
        "from google.colab import files\n",
        "uploaded = files.upload()"
      ],
      "metadata": {
        "colab": {
          "base_uri": "https://localhost:8080/",
          "height": 73
        },
        "id": "V8Q_kSHOPDQq",
        "outputId": "2f995e9c-e997-4e2b-9766-ceff34cc6d16"
      },
      "execution_count": null,
      "outputs": [
        {
          "output_type": "display_data",
          "data": {
            "text/plain": [
              "<IPython.core.display.HTML object>"
            ],
            "text/html": [
              "\n",
              "     <input type=\"file\" id=\"files-938e7905-c192-4268-af2c-f541cc829c7e\" name=\"files[]\" multiple disabled\n",
              "        style=\"border:none\" />\n",
              "     <output id=\"result-938e7905-c192-4268-af2c-f541cc829c7e\">\n",
              "      Upload widget is only available when the cell has been executed in the\n",
              "      current browser session. Please rerun this cell to enable.\n",
              "      </output>\n",
              "      <script>// Copyright 2017 Google LLC\n",
              "//\n",
              "// Licensed under the Apache License, Version 2.0 (the \"License\");\n",
              "// you may not use this file except in compliance with the License.\n",
              "// You may obtain a copy of the License at\n",
              "//\n",
              "//      http://www.apache.org/licenses/LICENSE-2.0\n",
              "//\n",
              "// Unless required by applicable law or agreed to in writing, software\n",
              "// distributed under the License is distributed on an \"AS IS\" BASIS,\n",
              "// WITHOUT WARRANTIES OR CONDITIONS OF ANY KIND, either express or implied.\n",
              "// See the License for the specific language governing permissions and\n",
              "// limitations under the License.\n",
              "\n",
              "/**\n",
              " * @fileoverview Helpers for google.colab Python module.\n",
              " */\n",
              "(function(scope) {\n",
              "function span(text, styleAttributes = {}) {\n",
              "  const element = document.createElement('span');\n",
              "  element.textContent = text;\n",
              "  for (const key of Object.keys(styleAttributes)) {\n",
              "    element.style[key] = styleAttributes[key];\n",
              "  }\n",
              "  return element;\n",
              "}\n",
              "\n",
              "// Max number of bytes which will be uploaded at a time.\n",
              "const MAX_PAYLOAD_SIZE = 100 * 1024;\n",
              "\n",
              "function _uploadFiles(inputId, outputId) {\n",
              "  const steps = uploadFilesStep(inputId, outputId);\n",
              "  const outputElement = document.getElementById(outputId);\n",
              "  // Cache steps on the outputElement to make it available for the next call\n",
              "  // to uploadFilesContinue from Python.\n",
              "  outputElement.steps = steps;\n",
              "\n",
              "  return _uploadFilesContinue(outputId);\n",
              "}\n",
              "\n",
              "// This is roughly an async generator (not supported in the browser yet),\n",
              "// where there are multiple asynchronous steps and the Python side is going\n",
              "// to poll for completion of each step.\n",
              "// This uses a Promise to block the python side on completion of each step,\n",
              "// then passes the result of the previous step as the input to the next step.\n",
              "function _uploadFilesContinue(outputId) {\n",
              "  const outputElement = document.getElementById(outputId);\n",
              "  const steps = outputElement.steps;\n",
              "\n",
              "  const next = steps.next(outputElement.lastPromiseValue);\n",
              "  return Promise.resolve(next.value.promise).then((value) => {\n",
              "    // Cache the last promise value to make it available to the next\n",
              "    // step of the generator.\n",
              "    outputElement.lastPromiseValue = value;\n",
              "    return next.value.response;\n",
              "  });\n",
              "}\n",
              "\n",
              "/**\n",
              " * Generator function which is called between each async step of the upload\n",
              " * process.\n",
              " * @param {string} inputId Element ID of the input file picker element.\n",
              " * @param {string} outputId Element ID of the output display.\n",
              " * @return {!Iterable<!Object>} Iterable of next steps.\n",
              " */\n",
              "function* uploadFilesStep(inputId, outputId) {\n",
              "  const inputElement = document.getElementById(inputId);\n",
              "  inputElement.disabled = false;\n",
              "\n",
              "  const outputElement = document.getElementById(outputId);\n",
              "  outputElement.innerHTML = '';\n",
              "\n",
              "  const pickedPromise = new Promise((resolve) => {\n",
              "    inputElement.addEventListener('change', (e) => {\n",
              "      resolve(e.target.files);\n",
              "    });\n",
              "  });\n",
              "\n",
              "  const cancel = document.createElement('button');\n",
              "  inputElement.parentElement.appendChild(cancel);\n",
              "  cancel.textContent = 'Cancel upload';\n",
              "  const cancelPromise = new Promise((resolve) => {\n",
              "    cancel.onclick = () => {\n",
              "      resolve(null);\n",
              "    };\n",
              "  });\n",
              "\n",
              "  // Wait for the user to pick the files.\n",
              "  const files = yield {\n",
              "    promise: Promise.race([pickedPromise, cancelPromise]),\n",
              "    response: {\n",
              "      action: 'starting',\n",
              "    }\n",
              "  };\n",
              "\n",
              "  cancel.remove();\n",
              "\n",
              "  // Disable the input element since further picks are not allowed.\n",
              "  inputElement.disabled = true;\n",
              "\n",
              "  if (!files) {\n",
              "    return {\n",
              "      response: {\n",
              "        action: 'complete',\n",
              "      }\n",
              "    };\n",
              "  }\n",
              "\n",
              "  for (const file of files) {\n",
              "    const li = document.createElement('li');\n",
              "    li.append(span(file.name, {fontWeight: 'bold'}));\n",
              "    li.append(span(\n",
              "        `(${file.type || 'n/a'}) - ${file.size} bytes, ` +\n",
              "        `last modified: ${\n",
              "            file.lastModifiedDate ? file.lastModifiedDate.toLocaleDateString() :\n",
              "                                    'n/a'} - `));\n",
              "    const percent = span('0% done');\n",
              "    li.appendChild(percent);\n",
              "\n",
              "    outputElement.appendChild(li);\n",
              "\n",
              "    const fileDataPromise = new Promise((resolve) => {\n",
              "      const reader = new FileReader();\n",
              "      reader.onload = (e) => {\n",
              "        resolve(e.target.result);\n",
              "      };\n",
              "      reader.readAsArrayBuffer(file);\n",
              "    });\n",
              "    // Wait for the data to be ready.\n",
              "    let fileData = yield {\n",
              "      promise: fileDataPromise,\n",
              "      response: {\n",
              "        action: 'continue',\n",
              "      }\n",
              "    };\n",
              "\n",
              "    // Use a chunked sending to avoid message size limits. See b/62115660.\n",
              "    let position = 0;\n",
              "    do {\n",
              "      const length = Math.min(fileData.byteLength - position, MAX_PAYLOAD_SIZE);\n",
              "      const chunk = new Uint8Array(fileData, position, length);\n",
              "      position += length;\n",
              "\n",
              "      const base64 = btoa(String.fromCharCode.apply(null, chunk));\n",
              "      yield {\n",
              "        response: {\n",
              "          action: 'append',\n",
              "          file: file.name,\n",
              "          data: base64,\n",
              "        },\n",
              "      };\n",
              "\n",
              "      let percentDone = fileData.byteLength === 0 ?\n",
              "          100 :\n",
              "          Math.round((position / fileData.byteLength) * 100);\n",
              "      percent.textContent = `${percentDone}% done`;\n",
              "\n",
              "    } while (position < fileData.byteLength);\n",
              "  }\n",
              "\n",
              "  // All done.\n",
              "  yield {\n",
              "    response: {\n",
              "      action: 'complete',\n",
              "    }\n",
              "  };\n",
              "}\n",
              "\n",
              "scope.google = scope.google || {};\n",
              "scope.google.colab = scope.google.colab || {};\n",
              "scope.google.colab._files = {\n",
              "  _uploadFiles,\n",
              "  _uploadFilesContinue,\n",
              "};\n",
              "})(self);\n",
              "</script> "
            ]
          },
          "metadata": {}
        },
        {
          "output_type": "stream",
          "name": "stdout",
          "text": [
            "Saving AMZN.csv to AMZN.csv\n"
          ]
        }
      ]
    },
    {
      "cell_type": "code",
      "source": [
        "import io\n",
        "df = pd.read_csv(io.BytesIO(uploaded['AMZN.csv']))\n",
        "df2 = pd.read_csv(io.BytesIO(uploaded['AMZN.csv']))"
      ],
      "metadata": {
        "id": "XxFv0V6IPfdB"
      },
      "execution_count": null,
      "outputs": []
    },
    {
      "cell_type": "code",
      "source": [
        "print('\\n Shape of the data:')\n",
        "print(df.shape)\n",
        "df.head()"
      ],
      "metadata": {
        "colab": {
          "base_uri": "https://localhost:8080/",
          "height": 258
        },
        "id": "rLxZv2uoP3Q3",
        "outputId": "ee4bb840-4f6b-41ad-e6b1-40ceeba01f2b"
      },
      "execution_count": null,
      "outputs": [
        {
          "output_type": "stream",
          "name": "stdout",
          "text": [
            "\n",
            " Shape of the data:\n",
            "(3775, 7)\n"
          ]
        },
        {
          "output_type": "execute_result",
          "data": {
            "text/plain": [
              "         Date    Open    High     Low   Close  Adj Close     Volume\n",
              "0  2008-03-24  3.6910  3.8465  3.6375  3.7975     3.7975  187908000\n",
              "1  2008-03-25  3.7915  3.8145  3.7025  3.7585     3.7585  126550000\n",
              "2  2008-03-26  3.7070  3.7560  3.6620  3.6900     3.6900  125702000\n",
              "3  2008-03-27  3.7185  3.7345  3.5400  3.5400     3.5400  158848000\n",
              "4  2008-03-28  3.5500  3.6105  3.4630  3.4880     3.4880  105582000"
            ],
            "text/html": [
              "\n",
              "  <div id=\"df-d34fcdd7-923b-44e6-a487-3585ff443b37\">\n",
              "    <div class=\"colab-df-container\">\n",
              "      <div>\n",
              "<style scoped>\n",
              "    .dataframe tbody tr th:only-of-type {\n",
              "        vertical-align: middle;\n",
              "    }\n",
              "\n",
              "    .dataframe tbody tr th {\n",
              "        vertical-align: top;\n",
              "    }\n",
              "\n",
              "    .dataframe thead th {\n",
              "        text-align: right;\n",
              "    }\n",
              "</style>\n",
              "<table border=\"1\" class=\"dataframe\">\n",
              "  <thead>\n",
              "    <tr style=\"text-align: right;\">\n",
              "      <th></th>\n",
              "      <th>Date</th>\n",
              "      <th>Open</th>\n",
              "      <th>High</th>\n",
              "      <th>Low</th>\n",
              "      <th>Close</th>\n",
              "      <th>Adj Close</th>\n",
              "      <th>Volume</th>\n",
              "    </tr>\n",
              "  </thead>\n",
              "  <tbody>\n",
              "    <tr>\n",
              "      <th>0</th>\n",
              "      <td>2008-03-24</td>\n",
              "      <td>3.6910</td>\n",
              "      <td>3.8465</td>\n",
              "      <td>3.6375</td>\n",
              "      <td>3.7975</td>\n",
              "      <td>3.7975</td>\n",
              "      <td>187908000</td>\n",
              "    </tr>\n",
              "    <tr>\n",
              "      <th>1</th>\n",
              "      <td>2008-03-25</td>\n",
              "      <td>3.7915</td>\n",
              "      <td>3.8145</td>\n",
              "      <td>3.7025</td>\n",
              "      <td>3.7585</td>\n",
              "      <td>3.7585</td>\n",
              "      <td>126550000</td>\n",
              "    </tr>\n",
              "    <tr>\n",
              "      <th>2</th>\n",
              "      <td>2008-03-26</td>\n",
              "      <td>3.7070</td>\n",
              "      <td>3.7560</td>\n",
              "      <td>3.6620</td>\n",
              "      <td>3.6900</td>\n",
              "      <td>3.6900</td>\n",
              "      <td>125702000</td>\n",
              "    </tr>\n",
              "    <tr>\n",
              "      <th>3</th>\n",
              "      <td>2008-03-27</td>\n",
              "      <td>3.7185</td>\n",
              "      <td>3.7345</td>\n",
              "      <td>3.5400</td>\n",
              "      <td>3.5400</td>\n",
              "      <td>3.5400</td>\n",
              "      <td>158848000</td>\n",
              "    </tr>\n",
              "    <tr>\n",
              "      <th>4</th>\n",
              "      <td>2008-03-28</td>\n",
              "      <td>3.5500</td>\n",
              "      <td>3.6105</td>\n",
              "      <td>3.4630</td>\n",
              "      <td>3.4880</td>\n",
              "      <td>3.4880</td>\n",
              "      <td>105582000</td>\n",
              "    </tr>\n",
              "  </tbody>\n",
              "</table>\n",
              "</div>\n",
              "      <button class=\"colab-df-convert\" onclick=\"convertToInteractive('df-d34fcdd7-923b-44e6-a487-3585ff443b37')\"\n",
              "              title=\"Convert this dataframe to an interactive table.\"\n",
              "              style=\"display:none;\">\n",
              "        \n",
              "  <svg xmlns=\"http://www.w3.org/2000/svg\" height=\"24px\"viewBox=\"0 0 24 24\"\n",
              "       width=\"24px\">\n",
              "    <path d=\"M0 0h24v24H0V0z\" fill=\"none\"/>\n",
              "    <path d=\"M18.56 5.44l.94 2.06.94-2.06 2.06-.94-2.06-.94-.94-2.06-.94 2.06-2.06.94zm-11 1L8.5 8.5l.94-2.06 2.06-.94-2.06-.94L8.5 2.5l-.94 2.06-2.06.94zm10 10l.94 2.06.94-2.06 2.06-.94-2.06-.94-.94-2.06-.94 2.06-2.06.94z\"/><path d=\"M17.41 7.96l-1.37-1.37c-.4-.4-.92-.59-1.43-.59-.52 0-1.04.2-1.43.59L10.3 9.45l-7.72 7.72c-.78.78-.78 2.05 0 2.83L4 21.41c.39.39.9.59 1.41.59.51 0 1.02-.2 1.41-.59l7.78-7.78 2.81-2.81c.8-.78.8-2.07 0-2.86zM5.41 20L4 18.59l7.72-7.72 1.47 1.35L5.41 20z\"/>\n",
              "  </svg>\n",
              "      </button>\n",
              "      \n",
              "  <style>\n",
              "    .colab-df-container {\n",
              "      display:flex;\n",
              "      flex-wrap:wrap;\n",
              "      gap: 12px;\n",
              "    }\n",
              "\n",
              "    .colab-df-convert {\n",
              "      background-color: #E8F0FE;\n",
              "      border: none;\n",
              "      border-radius: 50%;\n",
              "      cursor: pointer;\n",
              "      display: none;\n",
              "      fill: #1967D2;\n",
              "      height: 32px;\n",
              "      padding: 0 0 0 0;\n",
              "      width: 32px;\n",
              "    }\n",
              "\n",
              "    .colab-df-convert:hover {\n",
              "      background-color: #E2EBFA;\n",
              "      box-shadow: 0px 1px 2px rgba(60, 64, 67, 0.3), 0px 1px 3px 1px rgba(60, 64, 67, 0.15);\n",
              "      fill: #174EA6;\n",
              "    }\n",
              "\n",
              "    [theme=dark] .colab-df-convert {\n",
              "      background-color: #3B4455;\n",
              "      fill: #D2E3FC;\n",
              "    }\n",
              "\n",
              "    [theme=dark] .colab-df-convert:hover {\n",
              "      background-color: #434B5C;\n",
              "      box-shadow: 0px 1px 3px 1px rgba(0, 0, 0, 0.15);\n",
              "      filter: drop-shadow(0px 1px 2px rgba(0, 0, 0, 0.3));\n",
              "      fill: #FFFFFF;\n",
              "    }\n",
              "  </style>\n",
              "\n",
              "      <script>\n",
              "        const buttonEl =\n",
              "          document.querySelector('#df-d34fcdd7-923b-44e6-a487-3585ff443b37 button.colab-df-convert');\n",
              "        buttonEl.style.display =\n",
              "          google.colab.kernel.accessAllowed ? 'block' : 'none';\n",
              "\n",
              "        async function convertToInteractive(key) {\n",
              "          const element = document.querySelector('#df-d34fcdd7-923b-44e6-a487-3585ff443b37');\n",
              "          const dataTable =\n",
              "            await google.colab.kernel.invokeFunction('convertToInteractive',\n",
              "                                                     [key], {});\n",
              "          if (!dataTable) return;\n",
              "\n",
              "          const docLinkHtml = 'Like what you see? Visit the ' +\n",
              "            '<a target=\"_blank\" href=https://colab.research.google.com/notebooks/data_table.ipynb>data table notebook</a>'\n",
              "            + ' to learn more about interactive tables.';\n",
              "          element.innerHTML = '';\n",
              "          dataTable['output_type'] = 'display_data';\n",
              "          await google.colab.output.renderOutput(dataTable, element);\n",
              "          const docLink = document.createElement('div');\n",
              "          docLink.innerHTML = docLinkHtml;\n",
              "          element.appendChild(docLink);\n",
              "        }\n",
              "      </script>\n",
              "    </div>\n",
              "  </div>\n",
              "  "
            ]
          },
          "metadata": {},
          "execution_count": 7
        }
      ]
    },
    {
      "cell_type": "code",
      "source": [
        "df['Date'] = pd.to_datetime(df.Date,format='%Y-%m-%d')\n",
        "df.index = df['Date']\n",
        "# df = df.sort_index(ascending=True, axis=0)\n",
        "data = pd.DataFrame(df[['Date', 'Close']])\n",
        "data2=pd.DataFrame(df)\n",
        "#\n",
        "#setting index\n",
        "data.index = data.Date\n",
        "data.drop('Date', axis=1, inplace=True)\n",
        "data.head()\n",
        "\n",
        "data2.index = data2.Date\n",
        "data2.drop('Date', axis=1, inplace=True)\n",
        "data2.head()"
      ],
      "metadata": {
        "colab": {
          "base_uri": "https://localhost:8080/",
          "height": 238
        },
        "id": "4JuokLcgQM7J",
        "outputId": "19c466bd-3d6e-49c6-f8f7-22056afe5a86"
      },
      "execution_count": null,
      "outputs": [
        {
          "output_type": "execute_result",
          "data": {
            "text/plain": [
              "              Open    High     Low   Close  Adj Close     Volume\n",
              "Date                                                            \n",
              "2008-03-24  3.6910  3.8465  3.6375  3.7975     3.7975  187908000\n",
              "2008-03-25  3.7915  3.8145  3.7025  3.7585     3.7585  126550000\n",
              "2008-03-26  3.7070  3.7560  3.6620  3.6900     3.6900  125702000\n",
              "2008-03-27  3.7185  3.7345  3.5400  3.5400     3.5400  158848000\n",
              "2008-03-28  3.5500  3.6105  3.4630  3.4880     3.4880  105582000"
            ],
            "text/html": [
              "\n",
              "  <div id=\"df-788ff102-5bb7-47b7-9a1f-353b9c3f36bd\">\n",
              "    <div class=\"colab-df-container\">\n",
              "      <div>\n",
              "<style scoped>\n",
              "    .dataframe tbody tr th:only-of-type {\n",
              "        vertical-align: middle;\n",
              "    }\n",
              "\n",
              "    .dataframe tbody tr th {\n",
              "        vertical-align: top;\n",
              "    }\n",
              "\n",
              "    .dataframe thead th {\n",
              "        text-align: right;\n",
              "    }\n",
              "</style>\n",
              "<table border=\"1\" class=\"dataframe\">\n",
              "  <thead>\n",
              "    <tr style=\"text-align: right;\">\n",
              "      <th></th>\n",
              "      <th>Open</th>\n",
              "      <th>High</th>\n",
              "      <th>Low</th>\n",
              "      <th>Close</th>\n",
              "      <th>Adj Close</th>\n",
              "      <th>Volume</th>\n",
              "    </tr>\n",
              "    <tr>\n",
              "      <th>Date</th>\n",
              "      <th></th>\n",
              "      <th></th>\n",
              "      <th></th>\n",
              "      <th></th>\n",
              "      <th></th>\n",
              "      <th></th>\n",
              "    </tr>\n",
              "  </thead>\n",
              "  <tbody>\n",
              "    <tr>\n",
              "      <th>2008-03-24</th>\n",
              "      <td>3.6910</td>\n",
              "      <td>3.8465</td>\n",
              "      <td>3.6375</td>\n",
              "      <td>3.7975</td>\n",
              "      <td>3.7975</td>\n",
              "      <td>187908000</td>\n",
              "    </tr>\n",
              "    <tr>\n",
              "      <th>2008-03-25</th>\n",
              "      <td>3.7915</td>\n",
              "      <td>3.8145</td>\n",
              "      <td>3.7025</td>\n",
              "      <td>3.7585</td>\n",
              "      <td>3.7585</td>\n",
              "      <td>126550000</td>\n",
              "    </tr>\n",
              "    <tr>\n",
              "      <th>2008-03-26</th>\n",
              "      <td>3.7070</td>\n",
              "      <td>3.7560</td>\n",
              "      <td>3.6620</td>\n",
              "      <td>3.6900</td>\n",
              "      <td>3.6900</td>\n",
              "      <td>125702000</td>\n",
              "    </tr>\n",
              "    <tr>\n",
              "      <th>2008-03-27</th>\n",
              "      <td>3.7185</td>\n",
              "      <td>3.7345</td>\n",
              "      <td>3.5400</td>\n",
              "      <td>3.5400</td>\n",
              "      <td>3.5400</td>\n",
              "      <td>158848000</td>\n",
              "    </tr>\n",
              "    <tr>\n",
              "      <th>2008-03-28</th>\n",
              "      <td>3.5500</td>\n",
              "      <td>3.6105</td>\n",
              "      <td>3.4630</td>\n",
              "      <td>3.4880</td>\n",
              "      <td>3.4880</td>\n",
              "      <td>105582000</td>\n",
              "    </tr>\n",
              "  </tbody>\n",
              "</table>\n",
              "</div>\n",
              "      <button class=\"colab-df-convert\" onclick=\"convertToInteractive('df-788ff102-5bb7-47b7-9a1f-353b9c3f36bd')\"\n",
              "              title=\"Convert this dataframe to an interactive table.\"\n",
              "              style=\"display:none;\">\n",
              "        \n",
              "  <svg xmlns=\"http://www.w3.org/2000/svg\" height=\"24px\"viewBox=\"0 0 24 24\"\n",
              "       width=\"24px\">\n",
              "    <path d=\"M0 0h24v24H0V0z\" fill=\"none\"/>\n",
              "    <path d=\"M18.56 5.44l.94 2.06.94-2.06 2.06-.94-2.06-.94-.94-2.06-.94 2.06-2.06.94zm-11 1L8.5 8.5l.94-2.06 2.06-.94-2.06-.94L8.5 2.5l-.94 2.06-2.06.94zm10 10l.94 2.06.94-2.06 2.06-.94-2.06-.94-.94-2.06-.94 2.06-2.06.94z\"/><path d=\"M17.41 7.96l-1.37-1.37c-.4-.4-.92-.59-1.43-.59-.52 0-1.04.2-1.43.59L10.3 9.45l-7.72 7.72c-.78.78-.78 2.05 0 2.83L4 21.41c.39.39.9.59 1.41.59.51 0 1.02-.2 1.41-.59l7.78-7.78 2.81-2.81c.8-.78.8-2.07 0-2.86zM5.41 20L4 18.59l7.72-7.72 1.47 1.35L5.41 20z\"/>\n",
              "  </svg>\n",
              "      </button>\n",
              "      \n",
              "  <style>\n",
              "    .colab-df-container {\n",
              "      display:flex;\n",
              "      flex-wrap:wrap;\n",
              "      gap: 12px;\n",
              "    }\n",
              "\n",
              "    .colab-df-convert {\n",
              "      background-color: #E8F0FE;\n",
              "      border: none;\n",
              "      border-radius: 50%;\n",
              "      cursor: pointer;\n",
              "      display: none;\n",
              "      fill: #1967D2;\n",
              "      height: 32px;\n",
              "      padding: 0 0 0 0;\n",
              "      width: 32px;\n",
              "    }\n",
              "\n",
              "    .colab-df-convert:hover {\n",
              "      background-color: #E2EBFA;\n",
              "      box-shadow: 0px 1px 2px rgba(60, 64, 67, 0.3), 0px 1px 3px 1px rgba(60, 64, 67, 0.15);\n",
              "      fill: #174EA6;\n",
              "    }\n",
              "\n",
              "    [theme=dark] .colab-df-convert {\n",
              "      background-color: #3B4455;\n",
              "      fill: #D2E3FC;\n",
              "    }\n",
              "\n",
              "    [theme=dark] .colab-df-convert:hover {\n",
              "      background-color: #434B5C;\n",
              "      box-shadow: 0px 1px 3px 1px rgba(0, 0, 0, 0.15);\n",
              "      filter: drop-shadow(0px 1px 2px rgba(0, 0, 0, 0.3));\n",
              "      fill: #FFFFFF;\n",
              "    }\n",
              "  </style>\n",
              "\n",
              "      <script>\n",
              "        const buttonEl =\n",
              "          document.querySelector('#df-788ff102-5bb7-47b7-9a1f-353b9c3f36bd button.colab-df-convert');\n",
              "        buttonEl.style.display =\n",
              "          google.colab.kernel.accessAllowed ? 'block' : 'none';\n",
              "\n",
              "        async function convertToInteractive(key) {\n",
              "          const element = document.querySelector('#df-788ff102-5bb7-47b7-9a1f-353b9c3f36bd');\n",
              "          const dataTable =\n",
              "            await google.colab.kernel.invokeFunction('convertToInteractive',\n",
              "                                                     [key], {});\n",
              "          if (!dataTable) return;\n",
              "\n",
              "          const docLinkHtml = 'Like what you see? Visit the ' +\n",
              "            '<a target=\"_blank\" href=https://colab.research.google.com/notebooks/data_table.ipynb>data table notebook</a>'\n",
              "            + ' to learn more about interactive tables.';\n",
              "          element.innerHTML = '';\n",
              "          dataTable['output_type'] = 'display_data';\n",
              "          await google.colab.output.renderOutput(dataTable, element);\n",
              "          const docLink = document.createElement('div');\n",
              "          docLink.innerHTML = docLinkHtml;\n",
              "          element.appendChild(docLink);\n",
              "        }\n",
              "      </script>\n",
              "    </div>\n",
              "  </div>\n",
              "  "
            ]
          },
          "metadata": {},
          "execution_count": 32
        }
      ]
    },
    {
      "cell_type": "markdown",
      "source": [
        "# Train & Test"
      ],
      "metadata": {
        "id": "kcF21cFeUMjt"
      }
    },
    {
      "cell_type": "code",
      "source": [
        "# plot\n",
        "len_data = len(data)\n",
        "len_train = int(len_data*0.8) # 80%  = 3019\n",
        "len_test = len_data- len_train # 20% = 2415\n",
        "print (len_data, '=', len_train, '+',len_test)"
      ],
      "metadata": {
        "colab": {
          "base_uri": "https://localhost:8080/"
        },
        "id": "VUQffWOYQTbR",
        "outputId": "a6d2d6d2-c9ab-4d2d-e357-85ee00e70c30"
      },
      "execution_count": null,
      "outputs": [
        {
          "output_type": "stream",
          "name": "stdout",
          "text": [
            "3775 = 3020 + 755\n"
          ]
        }
      ]
    },
    {
      "cell_type": "code",
      "source": [
        "# plot\n",
        "len_data = len(data2)\n",
        "len_train = int(len_data*0.8) # 80%  = 3019\n",
        "len_test = len_data- len_train # 20% = 2415\n",
        "print (len_data, '=', len_train, '+',len_test)"
      ],
      "metadata": {
        "colab": {
          "base_uri": "https://localhost:8080/"
        },
        "id": "FdG8jBW2fO7o",
        "outputId": "2d67488a-5e1c-4ab0-bc4f-8c38d837134d"
      },
      "execution_count": null,
      "outputs": [
        {
          "output_type": "stream",
          "name": "stdout",
          "text": [
            "3775 = 3020 + 755\n"
          ]
        }
      ]
    },
    {
      "cell_type": "code",
      "source": [
        "plt.figure(figsize=(16,8))\n",
        "plt.plot(data[:len_train], label='Conjunto de entrenamiento (Training set): {} puntos (80%)'.format(len_train))\n",
        "plt.plot(data['Close'][len_train:], label='Conjunto de validación (Validation set): {} puntos (20%)'.format(len_test)) #248 data\n",
        "plt.title(\"AMZN: Historia del precio la acción al cierre (Close)\", size = 20)\n",
        "plt.legend()\n",
        "plt.show()"
      ],
      "metadata": {
        "colab": {
          "base_uri": "https://localhost:8080/",
          "height": 505
        },
        "id": "X5MsEFTbQXQJ",
        "outputId": "0e4abe8d-9c53-4fa2-8ed6-db32b8379b79"
      },
      "execution_count": null,
      "outputs": [
        {
          "output_type": "display_data",
          "data": {
            "text/plain": [
              "<Figure size 1152x576 with 1 Axes>"
            ],
            "image/png": "[encoded data removed]"
          },
          "metadata": {
            "needs_background": "light"
          }
        }
      ]
    },
    {
      "cell_type": "code",
      "source": [
        "#creating train and test sets\n",
        "dataset = data.values\n",
        "# create the scaler object and scale the data\n",
        "scaler = MinMaxScaler(feature_range=(0, 1))\n",
        "#scaled_data = np.array(scaler.fit_transform(dataset))\n",
        "dataset = np.squeeze(np.array(scaler.fit_transform(dataset)),axis=1)\n",
        "# dataset = pd.DataFrame(scaled_data,index=data.index, columns=['serie'])"
      ],
      "metadata": {
        "id": "w_9pD1TIQiiG"
      },
      "execution_count": null,
      "outputs": []
    },
    {
      "cell_type": "code",
      "source": [
        "#creating train and test sets\n",
        "dataset = data2.values\n",
        "# create the scaler object and scale the data\n",
        "scaler = MinMaxScaler(feature_range=(0, 1))\n",
        "#scaled_data = np.array(scaler.fit_transform(dataset))\n",
        "\n",
        "dataset2 = np.array(scaler.fit_transform(dataset))\n",
        "dataset = np.squeeze(np.array(scaler.fit_transform(dataset)))\n",
        "# dataset = pd.DataFrame(scaled_data,index=data.index, columns=['serie'])\n"
      ],
      "metadata": {
        "id": "Y2lLekq1fhG3"
      },
      "execution_count": null,
      "outputs": []
    },
    {
      "cell_type": "code",
      "source": [
        "dataset.shape"
      ],
      "metadata": {
        "colab": {
          "base_uri": "https://localhost:8080/"
        },
        "id": "Joc1U9NOQpE8",
        "outputId": "2480614d-6bdf-44e5-f719-8eb75108b561"
      },
      "execution_count": null,
      "outputs": [
        {
          "output_type": "execute_result",
          "data": {
            "text/plain": [
              "(3775,)"
            ]
          },
          "metadata": {},
          "execution_count": 56
        }
      ]
    },
    {
      "cell_type": "code",
      "source": [
        "print(dataset2)"
      ],
      "metadata": {
        "colab": {
          "base_uri": "https://localhost:8080/"
        },
        "id": "39XUTkaTiEYI",
        "outputId": "f0b7a14b-5185-4958-aaab-f0363186304e"
      },
      "execution_count": null,
      "outputs": [
        {
          "output_type": "stream",
          "name": "stdout",
          "text": [
            "[[0.01038906 0.01015779 0.01039565 0.01107029 0.01107029 0.14826598]\n",
            " [0.01093102 0.0099864  0.01075063 0.01085927 0.01085927 0.09484105]\n",
            " [0.01047534 0.00967307 0.01052945 0.01048864 0.01048864 0.09410269]\n",
            " ...\n",
            " [0.50683662 0.5304653  0.51268807 0.53180952 0.53180952 0.05818153]\n",
            " [0.52862317 0.52869783 0.52279152 0.52591183 0.52591183 0.06055534]\n",
            " [0.52118125 0.51702159 0.51317956 0.51920258 0.51920258 0.03897544]]\n"
          ]
        }
      ]
    },
    {
      "cell_type": "code",
      "source": [
        "def multipaso_data(dataset, target, start_index, end_index, history_size,\n",
        "                      target_size,  single_step=False):\n",
        "    ''' dataset: conjunto de datos para las secuencias de entrada\n",
        "        target:  conjunto de datos para las secuencias de salida\n",
        "        start_index: índice inicial de donde empezar a tomar los datos\n",
        "        end_index: índice final para tomar los datos. None para tomarlos todos\n",
        "        history_size: tamaño de la venytana para crear las secuencias\n",
        "        target_size: dentro de cuántas observaciones futuras desea pronosticar\n",
        "        single_step: Predecir solamente un valor futuro (=True),\n",
        "                     o predecir todos los valores hasta target_size(=False)\n",
        "    '''\n",
        "    data = []\n",
        "    labels = []\n",
        "\n",
        "    start_index = start_index + history_size\n",
        "    if end_index is None:\n",
        "        end_index = len(dataset) - target_size\n",
        "\n",
        "    for i in range(start_index, end_index):\n",
        "        indices = range(i-history_size, i)\n",
        "        data.append(dataset[indices])\n",
        "\n",
        "        if single_step:\n",
        "            labels.append(target[i+target_size])\n",
        "        else:\n",
        "            labels.append(target[i:i+target_size])\n",
        "\n",
        "    return np.array(data), np.array(labels)"
      ],
      "metadata": {
        "id": "ebB5yzojQv9f"
      },
      "execution_count": null,
      "outputs": []
    },
    {
      "cell_type": "markdown",
      "source": [
        "Se coloca una semilla para gerantizar reproductibidad"
      ],
      "metadata": {
        "id": "F2Eqg6T2QxF9"
      }
    },
    {
      "cell_type": "code",
      "source": [
        "tf.random.set_seed(100)"
      ],
      "metadata": {
        "id": "HCPTyT3FQz2B"
      },
      "execution_count": null,
      "outputs": []
    },
    {
      "cell_type": "code",
      "source": [
        "#\n",
        "# hiperparámetros para crear las secuencias\n",
        "#\n",
        "# tamaño de pasos a futuro\n",
        "future_target = 10\n",
        "\n",
        "# tamaño secuencias de entrada\n",
        "past_history = 60\n",
        "\n",
        "TRAIN_SPLIT = int(len_data*0.8) #3020: nuḿer0 de datos entreno\n",
        "\n",
        "# Crea los datos\n",
        "X_train, y_train = multipaso_data(dataset, dataset, 0,\n",
        "                                                 TRAIN_SPLIT, past_history,\n",
        "                                                 future_target)\n",
        "X_test, y_test = multipaso_data(dataset, dataset, TRAIN_SPLIT,\n",
        "                                                 None, past_history,\n",
        "                                                 future_target)\n",
        "\n",
        "print(TRAIN_SPLIT)\n",
        "print(X_train.shape)\n",
        "print(y_train.shape)\n",
        "print(X_test.shape)\n",
        "print(y_test.shape)\n",
        "#3020\n",
        "#(2960, 60)\n",
        "#(2960, 10)\n",
        "#(685, 60)\n",
        "#(685, 10)"
      ],
      "metadata": {
        "colab": {
          "base_uri": "https://localhost:8080/"
        },
        "id": "Mkt1bk23RXcZ",
        "outputId": "353534cd-1adf-45e4-8750-7fe4571278c7"
      },
      "execution_count": null,
      "outputs": [
        {
          "output_type": "stream",
          "name": "stdout",
          "text": [
            "3020\n",
            "(2960, 60)\n",
            "(2960, 10)\n",
            "(685, 60)\n",
            "(685, 10)\n"
          ]
        }
      ]
    },
    {
      "cell_type": "code",
      "source": [
        "#\n",
        "# hiperparámetros para crear las secuencias\n",
        "#\n",
        "# tamaño de pasos a futuro\n",
        "future_target = 10\n",
        "\n",
        "# tamaño secuencias de entrada\n",
        "past_history = 60\n",
        "\n",
        "TRAIN_SPLIT = int(len_data*0.8) #3020: nuḿer0 de datos entreno\n",
        "\n",
        "# Crea los datos\n",
        "X_train, y_train = multipaso_data(dataset2, dataset2, 0,\n",
        "                                                 TRAIN_SPLIT, past_history,\n",
        "                                                 future_target)\n",
        "X_test, y_test = multipaso_data(dataset2, dataset2, TRAIN_SPLIT,\n",
        "                                                 None, past_history,\n",
        "                                                 future_target)\n",
        "\n",
        "print(TRAIN_SPLIT)\n",
        "print(X_train.shape)\n",
        "print(y_train.shape)\n",
        "print(X_test.shape)\n",
        "print(y_test.shape)\n",
        "#3020\n",
        "#(2960, 60)\n",
        "#(2960, 10)\n",
        "#(685, 60)\n",
        "#(685, 10)"
      ],
      "metadata": {
        "colab": {
          "base_uri": "https://localhost:8080/"
        },
        "outputId": "ee568422-cc13-4b4e-821e-5d7fd161094c",
        "id": "PCe4AOUskA0G"
      },
      "execution_count": null,
      "outputs": [
        {
          "output_type": "stream",
          "name": "stdout",
          "text": [
            "3020\n",
            "(2960, 60, 6)\n",
            "(2960, 10, 6)\n",
            "(685, 60, 6)\n",
            "(685, 10, 6)\n"
          ]
        }
      ]
    },
    {
      "cell_type": "code",
      "source": [
        "# shapes\n",
        "input_shape = (X_train.shape[1], 1)\n",
        "units = 50\n",
        "\n",
        "# layers\n",
        "inputs = Input(input_shape)\n",
        "x = Dropout(0.0, name= 'Dropout_01')(inputs)\n",
        "x = LSTM(units=units, name='LSTM_layer')(x)\n",
        "#x = LSTM(units=units, return_sequences=True,name='LSTM_layer')(inputs)\n",
        "#x = Dropout(0.4)\n",
        "#x = LSTM(units=units//2, name='LSTM_layer_2')(x)\n",
        "#x = Dropout(0.4)\n",
        "x = Dropout(0.0, name= 'Dropout_02')(x)\n",
        "outputs = Dense(future_target)(x)\n",
        "\n",
        "# model\n",
        "model_01 = Model(inputs=inputs, outputs=outputs, name='series_LSTM_model')\n",
        "model_01.summary()"
      ],
      "metadata": {
        "colab": {
          "base_uri": "https://localhost:8080/"
        },
        "id": "nIxRCjGnRa_l",
        "outputId": "6aee4f35-072e-4ca0-a5ec-25f163ee2289"
      },
      "execution_count": null,
      "outputs": [
        {
          "output_type": "stream",
          "name": "stdout",
          "text": [
            "Model: \"series_LSTM_model\"\n",
            "_________________________________________________________________\n",
            " Layer (type)                Output Shape              Param #   \n",
            "=================================================================\n",
            " input_1 (InputLayer)        [(None, 60, 1)]           0         \n",
            "                                                                 \n",
            " Dropout_01 (Dropout)        (None, 60, 1)             0         \n",
            "                                                                 \n",
            " LSTM_layer (LSTM)           (None, 50)                10400     \n",
            "                                                                 \n",
            " Dropout_02 (Dropout)        (None, 50)                0         \n",
            "                                                                 \n",
            " dense (Dense)               (None, 10)                510       \n",
            "                                                                 \n",
            "=================================================================\n",
            "Total params: 10,910\n",
            "Trainable params: 10,910\n",
            "Non-trainable params: 0\n",
            "_________________________________________________________________\n"
          ]
        }
      ]
    },
    {
      "cell_type": "code",
      "source": [
        "# shapes\n",
        "input_shape = (X_train.shape[1], 1)\n",
        "units = 50\n",
        "\n",
        "# layers\n",
        "inputs = Input(input_shape)\n",
        "x = Dropout(0.0, name= 'Dropout_01')(inputs)\n",
        "x = LSTM(units=units, name='LSTM_layer')(x)\n",
        "#x = LSTM(units=units, return_sequences=True,name='LSTM_layer')(inputs)\n",
        "#x = Dropout(0.4)\n",
        "#x = LSTM(units=units//2, name='LSTM_layer_2')(x)\n",
        "#x = Dropout(0.4)\n",
        "x = Dropout(0.0, name= 'Dropout_02')(x)\n",
        "outputs = Dense(future_target)(x)\n",
        "\n",
        "# model\n",
        "model_01 = Model(inputs=inputs, outputs=outputs, name='series_LSTM_model')\n",
        "model_01.summary()"
      ],
      "metadata": {
        "colab": {
          "base_uri": "https://localhost:8080/"
        },
        "outputId": "463152a8-bf79-4d81-8ec2-51ae6460d7f5",
        "id": "2Hg6jn3bkTd5"
      },
      "execution_count": null,
      "outputs": [
        {
          "output_type": "stream",
          "name": "stdout",
          "text": [
            "Model: \"series_LSTM_model\"\n",
            "_________________________________________________________________\n",
            " Layer (type)                Output Shape              Param #   \n",
            "=================================================================\n",
            " input_3 (InputLayer)        [(None, 60, 1)]           0         \n",
            "                                                                 \n",
            " Dropout_01 (Dropout)        (None, 60, 1)             0         \n",
            "                                                                 \n",
            " LSTM_layer (LSTM)           (None, 50)                10400     \n",
            "                                                                 \n",
            " Dropout_02 (Dropout)        (None, 50)                0         \n",
            "                                                                 \n",
            " dense_2 (Dense)             (None, 10)                510       \n",
            "                                                                 \n",
            "=================================================================\n",
            "Total params: 10,910\n",
            "Trainable params: 10,910\n",
            "Non-trainable params: 0\n",
            "_________________________________________________________________\n"
          ]
        }
      ]
    },
    {
      "cell_type": "code",
      "source": [
        "model_01.compile(loss='mean_squared_error',\n",
        "  optimizer=Adam(0.001))"
      ],
      "metadata": {
        "id": "M9e7trN4SK5o"
      },
      "execution_count": null,
      "outputs": []
    },
    {
      "cell_type": "code",
      "source": [
        "#history = model_01.fit(X_train,y_train,epochs=20,batch_size=32)\n",
        "history = model_01.fit(\n",
        "    X_train, y_train,\n",
        "    epochs=40,\n",
        "    batch_size=32,\n",
        "    validation_split=0.1,\n",
        "    verbose=1,\n",
        "    shuffle=False\n",
        ")"
      ],
      "metadata": {
        "colab": {
          "base_uri": "https://localhost:8080/"
        },
        "id": "k0Bxg8CjSPQ2",
        "outputId": "59b1bd67-b6cd-40b9-cd4e-aad8481910f2"
      },
      "execution_count": null,
      "outputs": [
        {
          "output_type": "stream",
          "name": "stdout",
          "text": [
            "Epoch 1/40\n",
            "84/84 [==============================] - 7s 29ms/step - loss: 2.9481e-04 - val_loss: 0.0044\n",
            "Epoch 2/40\n",
            "84/84 [==============================] - 2s 23ms/step - loss: 0.0016 - val_loss: 0.0050\n",
            "Epoch 3/40\n",
            "84/84 [==============================] - 2s 24ms/step - loss: 0.0021 - val_loss: 0.0031\n",
            "Epoch 4/40\n",
            "84/84 [==============================] - 3s 31ms/step - loss: 0.0027 - val_loss: 0.0040\n",
            "Epoch 5/40\n",
            "84/84 [==============================] - 3s 32ms/step - loss: 0.0041 - val_loss: 9.7046e-04\n",
            "Epoch 6/40\n",
            "84/84 [==============================] - 2s 24ms/step - loss: 0.0047 - val_loss: 0.0039\n",
            "Epoch 7/40\n",
            "84/84 [==============================] - 2s 23ms/step - loss: 0.0028 - val_loss: 8.2374e-04\n",
            "Epoch 8/40\n",
            "84/84 [==============================] - 2s 24ms/step - loss: 3.2859e-04 - val_loss: 4.8135e-04\n",
            "Epoch 9/40\n",
            "84/84 [==============================] - 2s 24ms/step - loss: 1.7859e-04 - val_loss: 4.9557e-04\n",
            "Epoch 10/40\n",
            "84/84 [==============================] - 2s 26ms/step - loss: 1.1466e-04 - val_loss: 4.5579e-04\n",
            "Epoch 11/40\n",
            "84/84 [==============================] - 2s 27ms/step - loss: 1.1628e-04 - val_loss: 4.6641e-04\n",
            "Epoch 12/40\n",
            "84/84 [==============================] - 2s 24ms/step - loss: 1.0163e-04 - val_loss: 4.5135e-04\n",
            "Epoch 13/40\n",
            "84/84 [==============================] - 2s 24ms/step - loss: 1.0450e-04 - val_loss: 4.5624e-04\n",
            "Epoch 14/40\n",
            "84/84 [==============================] - 2s 24ms/step - loss: 1.0181e-04 - val_loss: 4.5082e-04\n",
            "Epoch 15/40\n",
            "84/84 [==============================] - 2s 24ms/step - loss: 1.0404e-04 - val_loss: 4.5376e-04\n",
            "Epoch 16/40\n",
            "84/84 [==============================] - 2s 28ms/step - loss: 1.0463e-04 - val_loss: 4.5285e-04\n",
            "Epoch 17/40\n",
            "84/84 [==============================] - 2s 26ms/step - loss: 1.0682e-04 - val_loss: 4.5626e-04\n",
            "Epoch 18/40\n",
            "84/84 [==============================] - 2s 24ms/step - loss: 1.0867e-04 - val_loss: 4.5853e-04\n",
            "Epoch 19/40\n",
            "84/84 [==============================] - 2s 27ms/step - loss: 1.1121e-04 - val_loss: 4.6351e-04\n",
            "Epoch 20/40\n",
            "84/84 [==============================] - 2s 29ms/step - loss: 1.1385e-04 - val_loss: 4.6866e-04\n",
            "Epoch 21/40\n",
            "84/84 [==============================] - 2s 27ms/step - loss: 1.1691e-04 - val_loss: 4.7572e-04\n",
            "Epoch 22/40\n",
            "84/84 [==============================] - 2s 27ms/step - loss: 1.2018e-04 - val_loss: 4.8347e-04\n",
            "Epoch 23/40\n",
            "84/84 [==============================] - 2s 25ms/step - loss: 1.2376e-04 - val_loss: 4.9248e-04\n",
            "Epoch 24/40\n",
            "84/84 [==============================] - 2s 25ms/step - loss: 1.2753e-04 - val_loss: 5.0206e-04\n",
            "Epoch 25/40\n",
            "84/84 [==============================] - 2s 25ms/step - loss: 1.3146e-04 - val_loss: 5.1217e-04\n",
            "Epoch 26/40\n",
            "84/84 [==============================] - 2s 24ms/step - loss: 1.3544e-04 - val_loss: 5.2229e-04\n",
            "Epoch 27/40\n",
            "84/84 [==============================] - 2s 29ms/step - loss: 1.3939e-04 - val_loss: 5.3216e-04\n",
            "Epoch 28/40\n",
            "84/84 [==============================] - 2s 25ms/step - loss: 1.4320e-04 - val_loss: 5.4136e-04\n",
            "Epoch 29/40\n",
            "84/84 [==============================] - 2s 25ms/step - loss: 1.4675e-04 - val_loss: 5.4968e-04\n",
            "Epoch 30/40\n",
            "84/84 [==============================] - 2s 25ms/step - loss: 1.4995e-04 - val_loss: 5.5687e-04\n",
            "Epoch 31/40\n",
            "84/84 [==============================] - 2s 25ms/step - loss: 1.5272e-04 - val_loss: 5.6285e-04\n",
            "Epoch 32/40\n",
            "84/84 [==============================] - 2s 26ms/step - loss: 1.5499e-04 - val_loss: 5.6754e-04\n",
            "Epoch 33/40\n",
            "84/84 [==============================] - 2s 28ms/step - loss: 1.5677e-04 - val_loss: 5.7102e-04\n",
            "Epoch 34/40\n",
            "84/84 [==============================] - 2s 25ms/step - loss: 1.5804e-04 - val_loss: 5.7335e-04\n",
            "Epoch 35/40\n",
            "84/84 [==============================] - 2s 25ms/step - loss: 1.5888e-04 - val_loss: 5.7467e-04\n",
            "Epoch 36/40\n",
            "84/84 [==============================] - 2s 24ms/step - loss: 1.5930e-04 - val_loss: 5.7510e-04\n",
            "Epoch 37/40\n",
            "84/84 [==============================] - 2s 25ms/step - loss: 1.5940e-04 - val_loss: 5.7482e-04\n",
            "Epoch 38/40\n",
            "84/84 [==============================] - 2s 29ms/step - loss: 1.5920e-04 - val_loss: 5.7392e-04\n",
            "Epoch 39/40\n",
            "84/84 [==============================] - 2s 25ms/step - loss: 1.5879e-04 - val_loss: 5.7256e-04\n",
            "Epoch 40/40\n",
            "84/84 [==============================] - 2s 24ms/step - loss: 1.5820e-04 - val_loss: 5.7082e-04\n"
          ]
        }
      ]
    },
    {
      "cell_type": "code",
      "source": [
        "plt.plot(history.history['loss'], label='train')\n",
        "plt.plot(history.history['val_loss'], label='test')\n",
        "plt.legend();"
      ],
      "metadata": {
        "colab": {
          "base_uri": "https://localhost:8080/",
          "height": 592
        },
        "id": "99SCbVRVSTYj",
        "outputId": "5bb4c0ad-a565-4412-d34b-f7b5b188ee86"
      },
      "execution_count": null,
      "outputs": [
        {
          "output_type": "display_data",
          "data": {
            "text/plain": [
              "<Figure size 1440x720 with 1 Axes>"
            ],
            "image/png": "[encoded data removed]"
          },
          "metadata": {
            "needs_background": "light"
          }
        }
      ]
    },
    {
      "cell_type": "code",
      "source": [
        "X_test.shape"
      ],
      "metadata": {
        "colab": {
          "base_uri": "https://localhost:8080/"
        },
        "id": "xMhkjf2kSW8y",
        "outputId": "d6ed91c2-0c4b-446f-b963-605ac5f30795"
      },
      "execution_count": null,
      "outputs": [
        {
          "output_type": "execute_result",
          "data": {
            "text/plain": [
              "(685, 60)"
            ]
          },
          "metadata": {},
          "execution_count": 23
        }
      ]
    },
    {
      "cell_type": "code",
      "source": [
        "# predictions\n",
        "prediction = model_01.predict(X_test)\n",
        "#prediction = scaler.inverse_transform(prediction)"
      ],
      "metadata": {
        "colab": {
          "base_uri": "https://localhost:8080/"
        },
        "id": "b6LeCeT7SZKj",
        "outputId": "48da97c3-19e6-4f0b-e5e4-2619b452294c"
      },
      "execution_count": null,
      "outputs": [
        {
          "output_type": "stream",
          "name": "stdout",
          "text": [
            "22/22 [==============================] - 1s 7ms/step\n"
          ]
        }
      ]
    },
    {
      "cell_type": "code",
      "source": [
        "print(X_test.shape)\n",
        "print(prediction.shape)\n",
        "print(y_test.shape)"
      ],
      "metadata": {
        "colab": {
          "base_uri": "https://localhost:8080/"
        },
        "id": "CCVCE5tcSbml",
        "outputId": "3c72a370-ee14-4c11-b904-d8c4f680ea48"
      },
      "execution_count": null,
      "outputs": [
        {
          "output_type": "stream",
          "name": "stdout",
          "text": [
            "(685, 60)\n",
            "(685, 10)\n",
            "(685, 10)\n"
          ]
        }
      ]
    },
    {
      "cell_type": "code",
      "source": [
        "pred =0\n",
        "y_train_p = X_test[pred,:]\n",
        "y_test_p = y_test[pred,:]\n",
        "y_pred_p = prediction[pred,:]\n",
        "\n",
        "#print(y_train_p.shape)\n",
        "#print(y_test_p.shape)\n",
        "#print(y_pred_p.shape)"
      ],
      "metadata": {
        "id": "7aItwQNlSeW0"
      },
      "execution_count": null,
      "outputs": []
    },
    {
      "cell_type": "code",
      "source": [
        "plt.plot(np.arange(0, len(y_train_p)), y_train_p, 'g', label=\"historia\")\n",
        "plt.plot(np.arange(len(y_train_p), len(y_train_p) + len(y_test_p)), y_test_p, marker='.', label=\"verdadero\")\n",
        "plt.plot(np.arange(len(y_train_p), len(y_train_p) + len(y_test_p)), y_pred_p, 'r', label=\"predicción\")\n",
        "#plt.ylabel('Valor')\n",
        "plt.xlabel('Time Step')\n",
        "plt.title(\"Amazon: Historia del precio la acción al cierre. Escala (0,1)\", size = 20)\n",
        "plt.legend()\n",
        "plt.show();"
      ],
      "metadata": {
        "colab": {
          "base_uri": "https://localhost:8080/",
          "height": 628
        },
        "id": "-ksxxeHYSgSa",
        "outputId": "8d9d20b1-0589-4849-fc4e-e303ea09b741"
      },
      "execution_count": null,
      "outputs": [
        {
          "output_type": "display_data",
          "data": {
            "text/plain": [
              "<Figure size 1440x720 with 1 Axes>"
            ],
            "image/png": "[encoded data removed]"
          },
          "metadata": {
            "needs_background": "light"
          }
        }
      ]
    },
    {
      "cell_type": "code",
      "source": [
        "model_01.save('../Datos/modelo_Apple_3_dia_multipl3.h5')"
      ],
      "metadata": {
        "id": "laOyQ5HnSiD7"
      },
      "execution_count": null,
      "outputs": []
    },
    {
      "cell_type": "code",
      "source": [
        "model_01.get_config()"
      ],
      "metadata": {
        "colab": {
          "base_uri": "https://localhost:8080/"
        },
        "id": "4Lq9GWZQSnyR",
        "outputId": "e0a7bb9f-4291-489b-8cf2-bcc6c7ea1183"
      },
      "execution_count": null,
      "outputs": [
        {
          "output_type": "execute_result",
          "data": {
            "text/plain": [
              "{'name': 'series_LSTM_model',\n",
              " 'layers': [{'class_name': 'InputLayer',\n",
              "   'config': {'batch_input_shape': (None, 60, 1),\n",
              "    'dtype': 'float32',\n",
              "    'sparse': False,\n",
              "    'ragged': False,\n",
              "    'name': 'input_1'},\n",
              "   'name': 'input_1',\n",
              "   'inbound_nodes': []},\n",
              "  {'class_name': 'Dropout',\n",
              "   'config': {'name': 'Dropout_01',\n",
              "    'trainable': True,\n",
              "    'dtype': 'float32',\n",
              "    'rate': 0.0,\n",
              "    'noise_shape': None,\n",
              "    'seed': None},\n",
              "   'name': 'Dropout_01',\n",
              "   'inbound_nodes': [[['input_1', 0, 0, {}]]]},\n",
              "  {'class_name': 'LSTM',\n",
              "   'config': {'name': 'LSTM_layer',\n",
              "    'trainable': True,\n",
              "    'dtype': 'float32',\n",
              "    'return_sequences': False,\n",
              "    'return_state': False,\n",
              "    'go_backwards': False,\n",
              "    'stateful': False,\n",
              "    'unroll': False,\n",
              "    'time_major': False,\n",
              "    'units': 50,\n",
              "    'activation': 'tanh',\n",
              "    'recurrent_activation': 'sigmoid',\n",
              "    'use_bias': True,\n",
              "    'kernel_initializer': {'class_name': 'GlorotUniform',\n",
              "     'config': {'seed': None},\n",
              "     'shared_object_id': 2},\n",
              "    'recurrent_initializer': {'class_name': 'Orthogonal',\n",
              "     'config': {'gain': 1.0, 'seed': None},\n",
              "     'shared_object_id': 3},\n",
              "    'bias_initializer': {'class_name': 'Zeros',\n",
              "     'config': {},\n",
              "     'shared_object_id': 4},\n",
              "    'unit_forget_bias': True,\n",
              "    'kernel_regularizer': None,\n",
              "    'recurrent_regularizer': None,\n",
              "    'bias_regularizer': None,\n",
              "    'activity_regularizer': None,\n",
              "    'kernel_constraint': None,\n",
              "    'recurrent_constraint': None,\n",
              "    'bias_constraint': None,\n",
              "    'dropout': 0.0,\n",
              "    'recurrent_dropout': 0.0,\n",
              "    'implementation': 2},\n",
              "   'name': 'LSTM_layer',\n",
              "   'inbound_nodes': [[['Dropout_01', 0, 0, {}]]]},\n",
              "  {'class_name': 'Dropout',\n",
              "   'config': {'name': 'Dropout_02',\n",
              "    'trainable': True,\n",
              "    'dtype': 'float32',\n",
              "    'rate': 0.0,\n",
              "    'noise_shape': None,\n",
              "    'seed': None},\n",
              "   'name': 'Dropout_02',\n",
              "   'inbound_nodes': [[['LSTM_layer', 0, 0, {}]]]},\n",
              "  {'class_name': 'Dense',\n",
              "   'config': {'name': 'dense',\n",
              "    'trainable': True,\n",
              "    'dtype': 'float32',\n",
              "    'units': 10,\n",
              "    'activation': 'linear',\n",
              "    'use_bias': True,\n",
              "    'kernel_initializer': {'class_name': 'GlorotUniform',\n",
              "     'config': {'seed': None}},\n",
              "    'bias_initializer': {'class_name': 'Zeros', 'config': {}},\n",
              "    'kernel_regularizer': None,\n",
              "    'bias_regularizer': None,\n",
              "    'activity_regularizer': None,\n",
              "    'kernel_constraint': None,\n",
              "    'bias_constraint': None},\n",
              "   'name': 'dense',\n",
              "   'inbound_nodes': [[['Dropout_02', 0, 0, {}]]]}],\n",
              " 'input_layers': [['input_1', 0, 0]],\n",
              " 'output_layers': [['dense', 0, 0]]}"
            ]
          },
          "metadata": {},
          "execution_count": 29
        }
      ]
    },
    {
      "cell_type": "code",
      "source": [
        "df.head()\n",
        "df.info()"
      ],
      "metadata": {
        "colab": {
          "base_uri": "https://localhost:8080/"
        },
        "id": "wEOrD5C0Yk14",
        "outputId": "24c97320-3c0e-4533-882b-90e9dd0b188c"
      },
      "execution_count": null,
      "outputs": [
        {
          "output_type": "stream",
          "name": "stdout",
          "text": [
            "<class 'pandas.core.frame.DataFrame'>\n",
            "DatetimeIndex: 3775 entries, 2008-03-24 to 2023-03-20\n",
            "Data columns (total 7 columns):\n",
            " #   Column     Non-Null Count  Dtype         \n",
            "---  ------     --------------  -----         \n",
            " 0   Date       3775 non-null   datetime64[ns]\n",
            " 1   Open       3775 non-null   float64       \n",
            " 2   High       3775 non-null   float64       \n",
            " 3   Low        3775 non-null   float64       \n",
            " 4   Close      3775 non-null   float64       \n",
            " 5   Adj Close  3775 non-null   float64       \n",
            " 6   Volume     3775 non-null   int64         \n",
            "dtypes: datetime64[ns](1), float64(5), int64(1)\n",
            "memory usage: 235.9 KB\n"
          ]
        }
      ]
    },
    {
      "cell_type": "code",
      "source": [
        "df1 = df.loc[:, df.columns != 'Date']\n",
        "df1.head()\n",
        "df1.info()\n",
        "print(3775*6)\n",
        "print(df.index)"
      ],
      "metadata": {
        "colab": {
          "base_uri": "https://localhost:8080/"
        },
        "id": "LMX3if1De5PL",
        "outputId": "bee99156-1171-4813-83c8-ee88aecb9771"
      },
      "execution_count": null,
      "outputs": [
        {
          "output_type": "stream",
          "name": "stdout",
          "text": [
            "<class 'pandas.core.frame.DataFrame'>\n",
            "DatetimeIndex: 3775 entries, 2008-03-24 to 2023-03-20\n",
            "Data columns (total 6 columns):\n",
            " #   Column     Non-Null Count  Dtype  \n",
            "---  ------     --------------  -----  \n",
            " 0   Open       3775 non-null   float64\n",
            " 1   High       3775 non-null   float64\n",
            " 2   Low        3775 non-null   float64\n",
            " 3   Close      3775 non-null   float64\n",
            " 4   Adj Close  3775 non-null   float64\n",
            " 5   Volume     3775 non-null   int64  \n",
            "dtypes: float64(5), int64(1)\n",
            "memory usage: 206.4 KB\n",
            "22650\n",
            "DatetimeIndex(['2008-03-24', '2008-03-25', '2008-03-26', '2008-03-27',\n",
            "               '2008-03-28', '2008-03-31', '2008-04-01', '2008-04-02',\n",
            "               '2008-04-03', '2008-04-04',\n",
            "               ...\n",
            "               '2023-03-07', '2023-03-08', '2023-03-09', '2023-03-10',\n",
            "               '2023-03-13', '2023-03-14', '2023-03-15', '2023-03-16',\n",
            "               '2023-03-17', '2023-03-20'],\n",
            "              dtype='datetime64[ns]', name='Date', length=3775, freq=None)\n"
          ]
        }
      ]
    },
    {
      "cell_type": "code",
      "source": [
        "df_list = []\n",
        "\n",
        "for label in df1:\n",
        "\n",
        "    ts = df1[label]\n",
        "\n",
        "    start_date = min(ts.fillna(method='ffill').dropna().index)\n",
        "    end_date = max(ts.fillna(method='bfill').dropna().index)\n",
        "\n",
        "    tmp = pd.DataFrame({'Num': ts})\n",
        "    tmp['index']=df2.index\n",
        "    date = tmp.index\n",
        "    tmp['date'] = date\n",
        "    tmp['Variable'] = label\n",
        "\n",
        "    #stack all time series vertically\n",
        "    df_list.append(tmp)\n",
        "\n",
        "time_df = pd.concat(df_list).reset_index(drop=True)\n",
        "#22649\n"
      ],
      "metadata": {
        "id": "MJcpP735ZqTU"
      },
      "execution_count": null,
      "outputs": []
    },
    {
      "cell_type": "code",
      "source": [
        "time_df.tail(\n",
        ")"
      ],
      "metadata": {
        "colab": {
          "base_uri": "https://localhost:8080/",
          "height": 206
        },
        "id": "CcQgGi6rmqkI",
        "outputId": "6e555187-3e37-495e-9e68-4d3d57d1c0e9"
      },
      "execution_count": null,
      "outputs": [
        {
          "output_type": "execute_result",
          "data": {
            "text/plain": [
              "              Num  index       date Variable\n",
              "22645  60912700.0   3770 2023-03-14   Volume\n",
              "22646  70731800.0   3771 2023-03-15   Volume\n",
              "22647  84446900.0   3772 2023-03-16   Volume\n",
              "22648  87173200.0   3773 2023-03-17   Volume\n",
              "22649  62388900.0   3774 2023-03-20   Volume"
            ],
            "text/html": [
              "\n",
              "  <div id=\"df-c1015772-05ec-40e5-9d57-02b59692bfb2\">\n",
              "    <div class=\"colab-df-container\">\n",
              "      <div>\n",
              "<style scoped>\n",
              "    .dataframe tbody tr th:only-of-type {\n",
              "        vertical-align: middle;\n",
              "    }\n",
              "\n",
              "    .dataframe tbody tr th {\n",
              "        vertical-align: top;\n",
              "    }\n",
              "\n",
              "    .dataframe thead th {\n",
              "        text-align: right;\n",
              "    }\n",
              "</style>\n",
              "<table border=\"1\" class=\"dataframe\">\n",
              "  <thead>\n",
              "    <tr style=\"text-align: right;\">\n",
              "      <th></th>\n",
              "      <th>Num</th>\n",
              "      <th>index</th>\n",
              "      <th>date</th>\n",
              "      <th>Variable</th>\n",
              "    </tr>\n",
              "  </thead>\n",
              "  <tbody>\n",
              "    <tr>\n",
              "      <th>22645</th>\n",
              "      <td>60912700.0</td>\n",
              "      <td>3770</td>\n",
              "      <td>2023-03-14</td>\n",
              "      <td>Volume</td>\n",
              "    </tr>\n",
              "    <tr>\n",
              "      <th>22646</th>\n",
              "      <td>70731800.0</td>\n",
              "      <td>3771</td>\n",
              "      <td>2023-03-15</td>\n",
              "      <td>Volume</td>\n",
              "    </tr>\n",
              "    <tr>\n",
              "      <th>22647</th>\n",
              "      <td>84446900.0</td>\n",
              "      <td>3772</td>\n",
              "      <td>2023-03-16</td>\n",
              "      <td>Volume</td>\n",
              "    </tr>\n",
              "    <tr>\n",
              "      <th>22648</th>\n",
              "      <td>87173200.0</td>\n",
              "      <td>3773</td>\n",
              "      <td>2023-03-17</td>\n",
              "      <td>Volume</td>\n",
              "    </tr>\n",
              "    <tr>\n",
              "      <th>22649</th>\n",
              "      <td>62388900.0</td>\n",
              "      <td>3774</td>\n",
              "      <td>2023-03-20</td>\n",
              "      <td>Volume</td>\n",
              "    </tr>\n",
              "  </tbody>\n",
              "</table>\n",
              "</div>\n",
              "      <button class=\"colab-df-convert\" onclick=\"convertToInteractive('df-c1015772-05ec-40e5-9d57-02b59692bfb2')\"\n",
              "              title=\"Convert this dataframe to an interactive table.\"\n",
              "              style=\"display:none;\">\n",
              "        \n",
              "  <svg xmlns=\"http://www.w3.org/2000/svg\" height=\"24px\"viewBox=\"0 0 24 24\"\n",
              "       width=\"24px\">\n",
              "    <path d=\"M0 0h24v24H0V0z\" fill=\"none\"/>\n",
              "    <path d=\"M18.56 5.44l.94 2.06.94-2.06 2.06-.94-2.06-.94-.94-2.06-.94 2.06-2.06.94zm-11 1L8.5 8.5l.94-2.06 2.06-.94-2.06-.94L8.5 2.5l-.94 2.06-2.06.94zm10 10l.94 2.06.94-2.06 2.06-.94-2.06-.94-.94-2.06-.94 2.06-2.06.94z\"/><path d=\"M17.41 7.96l-1.37-1.37c-.4-.4-.92-.59-1.43-.59-.52 0-1.04.2-1.43.59L10.3 9.45l-7.72 7.72c-.78.78-.78 2.05 0 2.83L4 21.41c.39.39.9.59 1.41.59.51 0 1.02-.2 1.41-.59l7.78-7.78 2.81-2.81c.8-.78.8-2.07 0-2.86zM5.41 20L4 18.59l7.72-7.72 1.47 1.35L5.41 20z\"/>\n",
              "  </svg>\n",
              "      </button>\n",
              "      \n",
              "  <style>\n",
              "    .colab-df-container {\n",
              "      display:flex;\n",
              "      flex-wrap:wrap;\n",
              "      gap: 12px;\n",
              "    }\n",
              "\n",
              "    .colab-df-convert {\n",
              "      background-color: #E8F0FE;\n",
              "      border: none;\n",
              "      border-radius: 50%;\n",
              "      cursor: pointer;\n",
              "      display: none;\n",
              "      fill: #1967D2;\n",
              "      height: 32px;\n",
              "      padding: 0 0 0 0;\n",
              "      width: 32px;\n",
              "    }\n",
              "\n",
              "    .colab-df-convert:hover {\n",
              "      background-color: #E2EBFA;\n",
              "      box-shadow: 0px 1px 2px rgba(60, 64, 67, 0.3), 0px 1px 3px 1px rgba(60, 64, 67, 0.15);\n",
              "      fill: #174EA6;\n",
              "    }\n",
              "\n",
              "    [theme=dark] .colab-df-convert {\n",
              "      background-color: #3B4455;\n",
              "      fill: #D2E3FC;\n",
              "    }\n",
              "\n",
              "    [theme=dark] .colab-df-convert:hover {\n",
              "      background-color: #434B5C;\n",
              "      box-shadow: 0px 1px 3px 1px rgba(0, 0, 0, 0.15);\n",
              "      filter: drop-shadow(0px 1px 2px rgba(0, 0, 0, 0.3));\n",
              "      fill: #FFFFFF;\n",
              "    }\n",
              "  </style>\n",
              "\n",
              "      <script>\n",
              "        const buttonEl =\n",
              "          document.querySelector('#df-c1015772-05ec-40e5-9d57-02b59692bfb2 button.colab-df-convert');\n",
              "        buttonEl.style.display =\n",
              "          google.colab.kernel.accessAllowed ? 'block' : 'none';\n",
              "\n",
              "        async function convertToInteractive(key) {\n",
              "          const element = document.querySelector('#df-c1015772-05ec-40e5-9d57-02b59692bfb2');\n",
              "          const dataTable =\n",
              "            await google.colab.kernel.invokeFunction('convertToInteractive',\n",
              "                                                     [key], {});\n",
              "          if (!dataTable) return;\n",
              "\n",
              "          const docLinkHtml = 'Like what you see? Visit the ' +\n",
              "            '<a target=\"_blank\" href=https://colab.research.google.com/notebooks/data_table.ipynb>data table notebook</a>'\n",
              "            + ' to learn more about interactive tables.';\n",
              "          element.innerHTML = '';\n",
              "          dataTable['output_type'] = 'display_data';\n",
              "          await google.colab.output.renderOutput(dataTable, element);\n",
              "          const docLink = document.createElement('div');\n",
              "          docLink.innerHTML = docLinkHtml;\n",
              "          element.appendChild(docLink);\n",
              "        }\n",
              "      </script>\n",
              "    </div>\n",
              "  </div>\n",
              "  "
            ]
          },
          "metadata": {},
          "execution_count": 86
        }
      ]
    },
    {
      "cell_type": "code",
      "source": [
        "#Hyperparameters\n",
        "#batch size=64\n",
        "#number heads=4, hidden sizes=160, lr=0.001, gr_clip=0.1\n",
        "\n",
        "max_prediction_length = 7\n",
        "max_encoder_length = 21\n",
        "\n",
        "training = TimeSeriesDataSet(\n",
        "    time_df,\n",
        "    time_idx=\"index\",\n",
        "    target=\"Num\",\n",
        "    group_ids=[\"Variable\"],\n",
        "    min_encoder_length=max_encoder_length // 2,\n",
        "    max_encoder_length=max_encoder_length,\n",
        "    min_prediction_length=1,\n",
        "    max_prediction_length=max_prediction_length,\n",
        "    static_categoricals=[\"Variable\"],\n",
        "    time_varying_unknown_reals=['Num'],\n",
        "    target_normalizer=GroupNormalizer(\n",
        "        groups=[\"Variable\"], transformation=\"softplus\"\n",
        "    ),  # we normalize by group\n",
        "    add_relative_time_idx=True,\n",
        "    add_target_scales=True,\n",
        "    add_encoder_length=True,\n",
        ")"
      ],
      "metadata": {
        "id": "JLSGc8_whmuZ"
      },
      "execution_count": null,
      "outputs": []
    },
    {
      "cell_type": "code",
      "source": [
        "\n",
        "validation = TimeSeriesDataSet.from_dataset(training, time_df, predict=True, stop_randomization=True)\n",
        "\n",
        "# create dataloaders for  our model\n",
        "batch_size = 64\n",
        "# if you have a strong GPU, feel free to increase the number of workers\n",
        "train_dataloader = training.to_dataloader(train=True, batch_size=batch_size, num_workers=0)\n",
        "val_dataloader = validation.to_dataloader(train=False, batch_size=batch_size * 10, num_workers=0)"
      ],
      "metadata": {
        "id": "ZRqcgW5lnZ04"
      },
      "execution_count": null,
      "outputs": []
    },
    {
      "cell_type": "code",
      "source": [
        "actuals = torch.cat([y for x, (y, weight) in iter(val_dataloader)])\n",
        "baseline_predictions = Baseline().predict(val_dataloader)\n",
        "(actuals - baseline_predictions).abs().mean().item()"
      ],
      "metadata": {
        "colab": {
          "base_uri": "https://localhost:8080/",
          "height": 200
        },
        "id": "lNakPJlRAvmE",
        "outputId": "eb5e5a3a-6d63-488f-bda9-345d1e9d46b1"
      },
      "execution_count": null,
      "outputs": [
        {
          "output_type": "error",
          "ename": "NameError",
          "evalue": "ignored",
          "traceback": [
            "\u001b[0;31m---------------------------------------------------------------------------\u001b[0m",
            "\u001b[0;31mNameError\u001b[0m                                 Traceback (most recent call last)",
            "\u001b[0;32m<ipython-input-114-894a331e72a6>\u001b[0m in \u001b[0;36m<module>\u001b[0;34m\u001b[0m\n\u001b[0;32m----> 1\u001b[0;31m \u001b[0mactuals\u001b[0m \u001b[0;34m=\u001b[0m \u001b[0mtorch\u001b[0m\u001b[0;34m.\u001b[0m\u001b[0mcat\u001b[0m\u001b[0;34m(\u001b[0m\u001b[0;34m[\u001b[0m\u001b[0my\u001b[0m \u001b[0;32mfor\u001b[0m \u001b[0mx\u001b[0m\u001b[0;34m,\u001b[0m \u001b[0;34m(\u001b[0m\u001b[0my\u001b[0m\u001b[0;34m,\u001b[0m \u001b[0mweight\u001b[0m\u001b[0;34m)\u001b[0m \u001b[0;32min\u001b[0m \u001b[0miter\u001b[0m\u001b[0;34m(\u001b[0m\u001b[0mval_dataloader\u001b[0m\u001b[0;34m)\u001b[0m\u001b[0;34m]\u001b[0m\u001b[0;34m)\u001b[0m\u001b[0;34m\u001b[0m\u001b[0;34m\u001b[0m\u001b[0m\n\u001b[0m\u001b[1;32m      2\u001b[0m \u001b[0mbaseline_predictions\u001b[0m \u001b[0;34m=\u001b[0m \u001b[0mBaseline\u001b[0m\u001b[0;34m(\u001b[0m\u001b[0;34m)\u001b[0m\u001b[0;34m.\u001b[0m\u001b[0mpredict\u001b[0m\u001b[0;34m(\u001b[0m\u001b[0mval_dataloader\u001b[0m\u001b[0;34m)\u001b[0m\u001b[0;34m\u001b[0m\u001b[0;34m\u001b[0m\u001b[0m\n\u001b[1;32m      3\u001b[0m \u001b[0;34m(\u001b[0m\u001b[0mactuals\u001b[0m \u001b[0;34m-\u001b[0m \u001b[0mbaseline_predictions\u001b[0m\u001b[0;34m)\u001b[0m\u001b[0;34m.\u001b[0m\u001b[0mabs\u001b[0m\u001b[0;34m(\u001b[0m\u001b[0;34m)\u001b[0m\u001b[0;34m.\u001b[0m\u001b[0mmean\u001b[0m\u001b[0;34m(\u001b[0m\u001b[0;34m)\u001b[0m\u001b[0;34m.\u001b[0m\u001b[0mitem\u001b[0m\u001b[0;34m(\u001b[0m\u001b[0;34m)\u001b[0m\u001b[0;34m\u001b[0m\u001b[0;34m\u001b[0m\u001b[0m\n",
            "\u001b[0;31mNameError\u001b[0m: name 'torch' is not defined"
          ]
        }
      ]
    },
    {
      "cell_type": "code",
      "source": [
        "class Animal:\n",
        "    def __init__(self, name):\n",
        "        self.name = name\n",
        "\n",
        "    def speak(self):\n",
        "        print(\"El animal está hablando\")\n",
        "\n",
        "class Dog(Animal):\n",
        "    def __init__(self, name, breed):\n",
        "        super().__init__(name)\n",
        "        self.breed = breed\n",
        "\n",
        "    def speak(self):\n",
        "        print(\"El perro está ladrando\")\n",
        "\n",
        "# Crear una instancia de la clase Dog\n",
        "my_dog = Dog(\"Max\", \"Labrador\")\n",
        "print(my_dog.name)  # Salida: Max\n",
        "print(my_dog.breed)  # Salida: Labrador\n",
        "my_dog.speak()"
      ],
      "metadata": {
        "colab": {
          "base_uri": "https://localhost:8080/"
        },
        "id": "0iyzdEFr5_HI",
        "outputId": "11228437-5eee-4baa-cfd1-29fa5dc69490"
      },
      "execution_count": null,
      "outputs": [
        {
          "output_type": "stream",
          "name": "stdout",
          "text": [
            "Max\n",
            "Labrador\n",
            "El perro está ladrando\n"
          ]
        }
      ]
    },
    {
      "cell_type": "code",
      "source": [
        "\n",
        "Animal(\"Juan\").speak()"
      ],
      "metadata": {
        "colab": {
          "base_uri": "https://localhost:8080/"
        },
        "id": "Y9pNS17h6AUf",
        "outputId": "6f84bbda-7453-40b5-b4da-e02ed48fc9fe"
      },
      "execution_count": null,
      "outputs": [
        {
          "output_type": "stream",
          "name": "stdout",
          "text": [
            "El animal está hablando\n"
          ]
        }
      ]
    }
  ]
}